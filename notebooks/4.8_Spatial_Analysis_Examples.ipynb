{
 "cells": [
  {
   "cell_type": "markdown",
   "metadata": {},
   "source": [
    "Mestrado em Modelagem Matematica da Informacao\n",
    "----------------------------------------------\n",
    "Disciplina: Modelagem e Mineracao de Dados\n",
    "------------------------------------------\n",
    "\n",
    "Master Program - Mathematical Modeling of Information\n",
    "-----------------------------------------------------\n",
    "Course: Data Mining and Modeling\n",
    "--------------------------------\n",
    "\n",
    "Professor: Renato Rocha Souza\n",
    "-----------------------------"
   ]
  },
  {
   "cell_type": "markdown",
   "metadata": {},
   "source": [
    "### Topic: Geographical and Spatial Analysis"
   ]
  },
  {
   "cell_type": "code",
   "execution_count": 73,
   "metadata": {},
   "outputs": [],
   "source": [
    "from __future__ import division\n",
    "\n",
    "import numpy as np\n",
    "import pandas as pd\n",
    "import matplotlib.pyplot as plt\n",
    "import twitter\n",
    "import nltk\n",
    "import re\n",
    "import networkx as nx\n",
    "import sys\n",
    "import os\n",
    "import json\n",
    "import time\n",
    "import urllib\n",
    "import webbrowser\n",
    "import codecs\n",
    "import Levenshtein\n",
    "\n",
    "from datetime import datetime\n",
    "from datetime import timedelta\n",
    "from itertools import chain\n",
    "from itertools import cycle\n",
    "from bs4 import BeautifulSoup\n",
    "from nominatim import Nominatim\n",
    "from mpl_toolkits.basemap import Basemap   #http://matplotlib.org/basemap/api/basemap_api.html\n",
    "from matplotlib import cm\n",
    "import geopy.geocoders as gg\n",
    "import plotly as py\n",
    "import plotly.graph_objs as go\n",
    "\n",
    "from IPython.display import Image, HTML, IFrame, FileLink, FileLinks #needed to render in notebook\n",
    "from IPython.core.display import display\n",
    "\n",
    "#Install http://www.graphviz.org/ & \n",
    "#Instal https://pypi.python.org/pypi/pydotplus\n",
    "import pydotplus\n",
    "\n",
    "%matplotlib inline\n",
    "# Set default figure size for this notebook\n",
    "plt.rcParams['figure.figsize'] = (16.0, 12.8)\n",
    "#plt.switch_backend('Agg')"
   ]
  },
  {
   "cell_type": "markdown",
   "metadata": {},
   "source": [
    "#### Specifying the path to the files"
   ]
  },
  {
   "cell_type": "code",
   "execution_count": 2,
   "metadata": {},
   "outputs": [],
   "source": [
    "templates = \"../templates/\"\n",
    "outputs = \"../outputs/\"\n",
    "\n",
    "dotfile = \"graph_retweet.dot\"\n",
    "pngfile = \"graph_retweet.png\"\n",
    "protofile = \"graph_retweet.html\"\n",
    "tweetsfile = \"Tweets_dump.txt\"\n",
    "template_proto = 'template_protoviz.html'\n",
    "\n",
    "pathdotfile = os.path.join(outputs,dotfile)\n",
    "pathpngfile = os.path.join(outputs,pngfile)\n",
    "pathprotofile = os.path.join(outputs,protofile)\n",
    "pathtweetsfile = os.path.join(outputs,tweetsfile)\n",
    "pathtemplate = os.path.join(templates,template_proto)\n",
    "\n",
    "stoplist_en = nltk.corpus.stopwords.words('english')\n",
    "stoplist_pt = nltk.corpus.stopwords.words('portuguese')\n",
    "ignorewords = stoplist_en + stoplist_pt + ['',' ','-','rt']"
   ]
  },
  {
   "cell_type": "markdown",
   "metadata": {},
   "source": [
    "### Using geographical resources within Python"
   ]
  },
  {
   "cell_type": "code",
   "execution_count": 3,
   "metadata": {
    "collapsed": true
   },
   "outputs": [],
   "source": [
    "#https://pypi.python.org/pypi/geopy  \n",
    "\n",
    "gg.OpenMapQuest()\n",
    "geolocator = gg.GoogleV3()"
   ]
  },
  {
   "cell_type": "markdown",
   "metadata": {},
   "source": [
    "To geolocate a query to an address and coordinates:"
   ]
  },
  {
   "cell_type": "code",
   "execution_count": 4,
   "metadata": {},
   "outputs": [
    {
     "name": "stdout",
     "output_type": "stream",
     "text": [
      "Rua Dona Mariana - Botafogo, Rio de Janeiro - RJ, Brazil\n",
      "-22.953195 -43.1885094\n"
     ]
    }
   ],
   "source": [
    "logradouro = \"Dona Mario ana, Botafoga\" #Note that there are typos in the names\n",
    "address, (latitude, longitude) = geolocator.geocode(logradouro)\n",
    "print(address)\n",
    "print(latitude, longitude)"
   ]
  },
  {
   "cell_type": "code",
   "execution_count": 5,
   "metadata": {},
   "outputs": [
    {
     "data": {
      "text/plain": [
       "0.7755102040816326"
      ]
     },
     "execution_count": 5,
     "metadata": {},
     "output_type": "execute_result"
    }
   ],
   "source": [
    "#Measuring editing distances between names:\n",
    "Levenshtein.ratio('Dona Mariano, Botafoga', 'Rua Dona Mariana - Botafogo')"
   ]
  },
  {
   "cell_type": "code",
   "execution_count": 6,
   "metadata": {},
   "outputs": [
    {
     "data": {
      "text/html": [
       "\n",
       "        <iframe\n",
       "            width=\"800px\"\n",
       "            height=\"600px\"\n",
       "            src=\"http://maps.google.com/maps?q=Rua Dona Mariana - Botafogo, Rio de Janeiro - RJ, Brazil&loc:-22.953195+-43.1885094&z=17&t=k&output=embed\"\n",
       "            frameborder=\"0\"\n",
       "            allowfullscreen\n",
       "        ></iframe>\n",
       "        "
      ],
      "text/plain": [
       "<IPython.lib.display.IFrame at 0x7f9af79713c8>"
      ]
     },
     "metadata": {},
     "output_type": "display_data"
    }
   ],
   "source": [
    "#https://developers.google.com/maps/documentation/staticmaps/\n",
    "#http://stackoverflow.com/questions/2660201/what-parameters-should-i-use-in-a-google-maps-url-to-go-to-a-lat-lon/9919251#9919251\n",
    "#m – normal map k – satellite h – hybrid p – terrain\n",
    "\n",
    "def gmap(address,lat,lon,zoom=15,tmap='m'):\n",
    "    # Google Maps URL template for an iframe\n",
    "    google_maps_url = 'http://maps.google.com/maps?q={0}&loc:{1}+{2}&z={3}&t={4}&output=embed'.format(address,\n",
    "                                                                                                     lat,\n",
    "                                                                                                     lon,\n",
    "                                                                                                     zoom,\n",
    "                                                                                                     tmap,)\n",
    "    display(IFrame(google_maps_url, '800px', '600px'))\n",
    "    \n",
    "gmap(address, latitude, longitude,17,'k')"
   ]
  },
  {
   "cell_type": "markdown",
   "metadata": {},
   "source": [
    "To find the address corresponding to a set of coordinates:"
   ]
  },
  {
   "cell_type": "code",
   "execution_count": 7,
   "metadata": {},
   "outputs": [
    {
     "name": "stdout",
     "output_type": "stream",
     "text": [
      "139 - Praça dos Três Poderes - Brasília, DF, 70297-400, Brazil\n",
      "Praça dos Três Poderes - Brasília, DF, 70297-400, Brazil\n",
      "Brasília - Brasilia, Federal District, Brazil\n",
      "Brasilia, Federal District, Brazil\n",
      "Asa Sul Entrequadra Sul 414/415 - Brasília, DF, 70297-400, Brazil\n",
      "Brasilia - Federal District, Brazil\n",
      "Brasilia - Federal District, Brazil\n",
      "Brazil\n"
     ]
    }
   ],
   "source": [
    "addresses = geolocator.reverse(\"-15.798,-47.865\")\n",
    "for address in addresses:\n",
    "    print(address)"
   ]
  },
  {
   "cell_type": "markdown",
   "metadata": {},
   "source": [
    "### Using Plotly"
   ]
  },
  {
   "cell_type": "code",
   "execution_count": 71,
   "metadata": {},
   "outputs": [],
   "source": [
    "data = dict (\n",
    "    type = 'choropleth',\n",
    "    locations = ['China','Canada','Brazil'],\n",
    "    locationmode='country names',\n",
    "    colorscale = ['Viridis'],\n",
    "    z=[10,20,30])"
   ]
  },
  {
   "cell_type": "code",
   "execution_count": 74,
   "metadata": {},
   "outputs": [
    {
     "data": {
      "text/plain": [
       "'file:///Documents/MMD/notebooks/temp-plot.html'"
      ]
     },
     "execution_count": 74,
     "metadata": {},
     "output_type": "execute_result"
    }
   ],
   "source": [
    "map = go.Figure(data=[data])\n",
    "py.offline.plot(map)"
   ]
  },
  {
   "cell_type": "code",
   "execution_count": 77,
   "metadata": {},
   "outputs": [
    {
     "data": {
      "text/plain": [
       "'/Documents/MMD/notebooks'"
      ]
     },
     "execution_count": 77,
     "metadata": {},
     "output_type": "execute_result"
    }
   ],
   "source": [
    "pwd"
   ]
  },
  {
   "cell_type": "code",
   "execution_count": 76,
   "metadata": {},
   "outputs": [
    {
     "ename": "FileNotFoundError",
     "evalue": "File b'../datasets/CSVs/hapiness2017.csv' does not exist",
     "output_type": "error",
     "traceback": [
      "\u001b[0;31m---------------------------------------------------------------------------\u001b[0m",
      "\u001b[0;31mFileNotFoundError\u001b[0m                         Traceback (most recent call last)",
      "\u001b[0;32m<ipython-input-76-b11411e5fc04>\u001b[0m in \u001b[0;36m<module>\u001b[0;34m()\u001b[0m\n\u001b[0;32m----> 1\u001b[0;31m \u001b[0mdf\u001b[0m \u001b[0;34m=\u001b[0m \u001b[0mpd\u001b[0m\u001b[0;34m.\u001b[0m\u001b[0mread_csv\u001b[0m\u001b[0;34m(\u001b[0m\u001b[0;34m\"../datasets/CSVs/hapiness2017.csv\"\u001b[0m\u001b[0;34m)\u001b[0m\u001b[0;34m\u001b[0m\u001b[0m\n\u001b[0m\u001b[1;32m      2\u001b[0m \u001b[0;34m\u001b[0m\u001b[0m\n\u001b[1;32m      3\u001b[0m data = dict (\n\u001b[1;32m      4\u001b[0m     \u001b[0mtype\u001b[0m \u001b[0;34m=\u001b[0m \u001b[0;34m'choropleth'\u001b[0m\u001b[0;34m,\u001b[0m\u001b[0;34m\u001b[0m\u001b[0m\n\u001b[1;32m      5\u001b[0m     \u001b[0mlocations\u001b[0m \u001b[0;34m=\u001b[0m \u001b[0mdf\u001b[0m\u001b[0;34m[\u001b[0m\u001b[0;34m'Country'\u001b[0m\u001b[0;34m]\u001b[0m\u001b[0;34m,\u001b[0m\u001b[0;34m\u001b[0m\u001b[0m\n",
      "\u001b[0;32m/usr/local/lib/python3.6/dist-packages/pandas/io/parsers.py\u001b[0m in \u001b[0;36mparser_f\u001b[0;34m(filepath_or_buffer, sep, delimiter, header, names, index_col, usecols, squeeze, prefix, mangle_dupe_cols, dtype, engine, converters, true_values, false_values, skipinitialspace, skiprows, nrows, na_values, keep_default_na, na_filter, verbose, skip_blank_lines, parse_dates, infer_datetime_format, keep_date_col, date_parser, dayfirst, iterator, chunksize, compression, thousands, decimal, lineterminator, quotechar, quoting, escapechar, comment, encoding, dialect, tupleize_cols, error_bad_lines, warn_bad_lines, skipfooter, doublequote, delim_whitespace, low_memory, memory_map, float_precision)\u001b[0m\n\u001b[1;32m    676\u001b[0m                     skip_blank_lines=skip_blank_lines)\n\u001b[1;32m    677\u001b[0m \u001b[0;34m\u001b[0m\u001b[0m\n\u001b[0;32m--> 678\u001b[0;31m         \u001b[0;32mreturn\u001b[0m \u001b[0m_read\u001b[0m\u001b[0;34m(\u001b[0m\u001b[0mfilepath_or_buffer\u001b[0m\u001b[0;34m,\u001b[0m \u001b[0mkwds\u001b[0m\u001b[0;34m)\u001b[0m\u001b[0;34m\u001b[0m\u001b[0m\n\u001b[0m\u001b[1;32m    679\u001b[0m \u001b[0;34m\u001b[0m\u001b[0m\n\u001b[1;32m    680\u001b[0m     \u001b[0mparser_f\u001b[0m\u001b[0;34m.\u001b[0m\u001b[0m__name__\u001b[0m \u001b[0;34m=\u001b[0m \u001b[0mname\u001b[0m\u001b[0;34m\u001b[0m\u001b[0m\n",
      "\u001b[0;32m/usr/local/lib/python3.6/dist-packages/pandas/io/parsers.py\u001b[0m in \u001b[0;36m_read\u001b[0;34m(filepath_or_buffer, kwds)\u001b[0m\n\u001b[1;32m    438\u001b[0m \u001b[0;34m\u001b[0m\u001b[0m\n\u001b[1;32m    439\u001b[0m     \u001b[0;31m# Create the parser.\u001b[0m\u001b[0;34m\u001b[0m\u001b[0;34m\u001b[0m\u001b[0m\n\u001b[0;32m--> 440\u001b[0;31m     \u001b[0mparser\u001b[0m \u001b[0;34m=\u001b[0m \u001b[0mTextFileReader\u001b[0m\u001b[0;34m(\u001b[0m\u001b[0mfilepath_or_buffer\u001b[0m\u001b[0;34m,\u001b[0m \u001b[0;34m**\u001b[0m\u001b[0mkwds\u001b[0m\u001b[0;34m)\u001b[0m\u001b[0;34m\u001b[0m\u001b[0m\n\u001b[0m\u001b[1;32m    441\u001b[0m \u001b[0;34m\u001b[0m\u001b[0m\n\u001b[1;32m    442\u001b[0m     \u001b[0;32mif\u001b[0m \u001b[0mchunksize\u001b[0m \u001b[0;32mor\u001b[0m \u001b[0miterator\u001b[0m\u001b[0;34m:\u001b[0m\u001b[0;34m\u001b[0m\u001b[0m\n",
      "\u001b[0;32m/usr/local/lib/python3.6/dist-packages/pandas/io/parsers.py\u001b[0m in \u001b[0;36m__init__\u001b[0;34m(self, f, engine, **kwds)\u001b[0m\n\u001b[1;32m    785\u001b[0m             \u001b[0mself\u001b[0m\u001b[0;34m.\u001b[0m\u001b[0moptions\u001b[0m\u001b[0;34m[\u001b[0m\u001b[0;34m'has_index_names'\u001b[0m\u001b[0;34m]\u001b[0m \u001b[0;34m=\u001b[0m \u001b[0mkwds\u001b[0m\u001b[0;34m[\u001b[0m\u001b[0;34m'has_index_names'\u001b[0m\u001b[0;34m]\u001b[0m\u001b[0;34m\u001b[0m\u001b[0m\n\u001b[1;32m    786\u001b[0m \u001b[0;34m\u001b[0m\u001b[0m\n\u001b[0;32m--> 787\u001b[0;31m         \u001b[0mself\u001b[0m\u001b[0;34m.\u001b[0m\u001b[0m_make_engine\u001b[0m\u001b[0;34m(\u001b[0m\u001b[0mself\u001b[0m\u001b[0;34m.\u001b[0m\u001b[0mengine\u001b[0m\u001b[0;34m)\u001b[0m\u001b[0;34m\u001b[0m\u001b[0m\n\u001b[0m\u001b[1;32m    788\u001b[0m \u001b[0;34m\u001b[0m\u001b[0m\n\u001b[1;32m    789\u001b[0m     \u001b[0;32mdef\u001b[0m \u001b[0mclose\u001b[0m\u001b[0;34m(\u001b[0m\u001b[0mself\u001b[0m\u001b[0;34m)\u001b[0m\u001b[0;34m:\u001b[0m\u001b[0;34m\u001b[0m\u001b[0m\n",
      "\u001b[0;32m/usr/local/lib/python3.6/dist-packages/pandas/io/parsers.py\u001b[0m in \u001b[0;36m_make_engine\u001b[0;34m(self, engine)\u001b[0m\n\u001b[1;32m   1012\u001b[0m     \u001b[0;32mdef\u001b[0m \u001b[0m_make_engine\u001b[0m\u001b[0;34m(\u001b[0m\u001b[0mself\u001b[0m\u001b[0;34m,\u001b[0m \u001b[0mengine\u001b[0m\u001b[0;34m=\u001b[0m\u001b[0;34m'c'\u001b[0m\u001b[0;34m)\u001b[0m\u001b[0;34m:\u001b[0m\u001b[0;34m\u001b[0m\u001b[0m\n\u001b[1;32m   1013\u001b[0m         \u001b[0;32mif\u001b[0m \u001b[0mengine\u001b[0m \u001b[0;34m==\u001b[0m \u001b[0;34m'c'\u001b[0m\u001b[0;34m:\u001b[0m\u001b[0;34m\u001b[0m\u001b[0m\n\u001b[0;32m-> 1014\u001b[0;31m             \u001b[0mself\u001b[0m\u001b[0;34m.\u001b[0m\u001b[0m_engine\u001b[0m \u001b[0;34m=\u001b[0m \u001b[0mCParserWrapper\u001b[0m\u001b[0;34m(\u001b[0m\u001b[0mself\u001b[0m\u001b[0;34m.\u001b[0m\u001b[0mf\u001b[0m\u001b[0;34m,\u001b[0m \u001b[0;34m**\u001b[0m\u001b[0mself\u001b[0m\u001b[0;34m.\u001b[0m\u001b[0moptions\u001b[0m\u001b[0;34m)\u001b[0m\u001b[0;34m\u001b[0m\u001b[0m\n\u001b[0m\u001b[1;32m   1015\u001b[0m         \u001b[0;32melse\u001b[0m\u001b[0;34m:\u001b[0m\u001b[0;34m\u001b[0m\u001b[0m\n\u001b[1;32m   1016\u001b[0m             \u001b[0;32mif\u001b[0m \u001b[0mengine\u001b[0m \u001b[0;34m==\u001b[0m \u001b[0;34m'python'\u001b[0m\u001b[0;34m:\u001b[0m\u001b[0;34m\u001b[0m\u001b[0m\n",
      "\u001b[0;32m/usr/local/lib/python3.6/dist-packages/pandas/io/parsers.py\u001b[0m in \u001b[0;36m__init__\u001b[0;34m(self, src, **kwds)\u001b[0m\n\u001b[1;32m   1706\u001b[0m         \u001b[0mkwds\u001b[0m\u001b[0;34m[\u001b[0m\u001b[0;34m'usecols'\u001b[0m\u001b[0;34m]\u001b[0m \u001b[0;34m=\u001b[0m \u001b[0mself\u001b[0m\u001b[0;34m.\u001b[0m\u001b[0musecols\u001b[0m\u001b[0;34m\u001b[0m\u001b[0m\n\u001b[1;32m   1707\u001b[0m \u001b[0;34m\u001b[0m\u001b[0m\n\u001b[0;32m-> 1708\u001b[0;31m         \u001b[0mself\u001b[0m\u001b[0;34m.\u001b[0m\u001b[0m_reader\u001b[0m \u001b[0;34m=\u001b[0m \u001b[0mparsers\u001b[0m\u001b[0;34m.\u001b[0m\u001b[0mTextReader\u001b[0m\u001b[0;34m(\u001b[0m\u001b[0msrc\u001b[0m\u001b[0;34m,\u001b[0m \u001b[0;34m**\u001b[0m\u001b[0mkwds\u001b[0m\u001b[0;34m)\u001b[0m\u001b[0;34m\u001b[0m\u001b[0m\n\u001b[0m\u001b[1;32m   1709\u001b[0m \u001b[0;34m\u001b[0m\u001b[0m\n\u001b[1;32m   1710\u001b[0m         \u001b[0mpassed_names\u001b[0m \u001b[0;34m=\u001b[0m \u001b[0mself\u001b[0m\u001b[0;34m.\u001b[0m\u001b[0mnames\u001b[0m \u001b[0;32mis\u001b[0m \u001b[0;32mNone\u001b[0m\u001b[0;34m\u001b[0m\u001b[0m\n",
      "\u001b[0;32mpandas/_libs/parsers.pyx\u001b[0m in \u001b[0;36mpandas._libs.parsers.TextReader.__cinit__\u001b[0;34m()\u001b[0m\n",
      "\u001b[0;32mpandas/_libs/parsers.pyx\u001b[0m in \u001b[0;36mpandas._libs.parsers.TextReader._setup_parser_source\u001b[0;34m()\u001b[0m\n",
      "\u001b[0;31mFileNotFoundError\u001b[0m: File b'../datasets/CSVs/hapiness2017.csv' does not exist"
     ]
    }
   ],
   "source": [
    "df = pd.read_csv(\"../datasets/CSVs/hapiness2017.csv\")\n",
    "\n",
    "data = dict (\n",
    "    type = 'choropleth',\n",
    "    locations = df['Country'],\n",
    "    locationmode='country names',\n",
    "    colorscale = ['Viridis'],\n",
    "    z=df['Happiness.Score'])\n",
    "\n",
    "map = go.Figure(data=[data])\n",
    "py.offline.plot(map)"
   ]
  },
  {
   "cell_type": "code",
   "execution_count": null,
   "metadata": {},
   "outputs": [],
   "source": []
  },
  {
   "cell_type": "markdown",
   "metadata": {},
   "source": [
    "### Using Python and QGIS for geospatial visualizations - a Case Study  \n",
    "https://www.airpair.com/python/posts/using-python-and-qgis-for-geospatial-visualization  "
   ]
  },
  {
   "cell_type": "code",
   "execution_count": 8,
   "metadata": {
    "collapsed": true
   },
   "outputs": [],
   "source": [
    "base_url = \"http://www.nuforc.org/webreports/\"\n",
    "index_url = \"http://www.nuforc.org/webreports/ndxevent.html\""
   ]
  },
  {
   "cell_type": "code",
   "execution_count": 9,
   "metadata": {
    "collapsed": true
   },
   "outputs": [],
   "source": [
    "def can_cast_as_dt(dateStr, fmt):\n",
    "    try:\n",
    "        datetime.strptime(dateStr, fmt)\n",
    "        return True\n",
    "    except ValueError:\n",
    "        return False\n",
    "\n",
    "def parse_dt(dateStr):\n",
    "    # the data in the website comes in two different formats, try both \n",
    "    for fmt in [\"%m/%d/%y %H:%M\", \"%m/%d/%y\"]:\n",
    "        try:\n",
    "            return datetime.strptime(dateStr, fmt)\n",
    "        except ValueError:\n",
    "            continue\n",
    "\n",
    "def get_data_from_url(url):\n",
    "    print(\"Processing {}\".format(url))\n",
    "    data = []\n",
    "    source = BeautifulSoup(urllib.request.urlopen(url), \"html5lib\")\n",
    "    for row in source('tr'):\n",
    "        if not row('td'):\n",
    "            continue # header row\n",
    "        row_data = row('td')\n",
    "        # parse the datetime from the string\n",
    "        date_time = parse_dt(row_data[0].text)\n",
    "        city = row_data[1].text\n",
    "        state = row_data[2].text\n",
    "        shape = row_data[3].text\n",
    "        duration = row_data[4].text\n",
    "        data.append((date_time, city, state, shape, duration))\n",
    "    return data"
   ]
  },
  {
   "cell_type": "code",
   "execution_count": 10,
   "metadata": {},
   "outputs": [
    {
     "name": "stdout",
     "output_type": "stream",
     "text": [
      "Processing http://www.nuforc.org/webreports/ndxe201808.html\n",
      "Processing http://www.nuforc.org/webreports/ndxe201807.html\n",
      "Processing http://www.nuforc.org/webreports/ndxe201806.html\n",
      "Processing http://www.nuforc.org/webreports/ndxe201805.html\n",
      "Processing http://www.nuforc.org/webreports/ndxe201804.html\n",
      "Processing http://www.nuforc.org/webreports/ndxe201803.html\n",
      "Processing http://www.nuforc.org/webreports/ndxe201802.html\n",
      "Processing http://www.nuforc.org/webreports/ndxe201801.html\n",
      "Processing http://www.nuforc.org/webreports/ndxe201712.html\n",
      "Processing http://www.nuforc.org/webreports/ndxe201711.html\n",
      "Processing http://www.nuforc.org/webreports/ndxe201710.html\n",
      "Processing http://www.nuforc.org/webreports/ndxe201709.html\n"
     ]
    }
   ],
   "source": [
    "# get the index page\n",
    "raw_page = urllib.request.urlopen(index_url)\n",
    "source = BeautifulSoup(raw_page, \"html5lib\")\n",
    "# get all the links in the index page\n",
    "func1 = lambda x: (x.text, base_url + x['href'])\n",
    "monthly_urls = list(map(func1,source('a')))\n",
    "# get  the last 12 links that have a text like 06/2015\n",
    "func2 = lambda x: can_cast_as_dt(x[0], \"%m/%Y\")\n",
    "last_year_urls = filter(func2, monthly_urls[0:13]) \n",
    "# extract the data from each monthly page and flatten the lists of tuples\n",
    "last_year_ufos = list(chain(*map(lambda x: get_data_from_url(x[1]), last_year_urls)))\n",
    "# initialize a pandas DataFrame with the list of tuples"
   ]
  },
  {
   "cell_type": "code",
   "execution_count": 11,
   "metadata": {},
   "outputs": [],
   "source": [
    "ufos_df = pd.DataFrame(last_year_ufos, columns=[\"start\",\"city\",\"state\",\"shape\",\"duration_description\"])"
   ]
  },
  {
   "cell_type": "code",
   "execution_count": 12,
   "metadata": {},
   "outputs": [
    {
     "data": {
      "text/html": [
       "<div>\n",
       "<style scoped>\n",
       "    .dataframe tbody tr th:only-of-type {\n",
       "        vertical-align: middle;\n",
       "    }\n",
       "\n",
       "    .dataframe tbody tr th {\n",
       "        vertical-align: top;\n",
       "    }\n",
       "\n",
       "    .dataframe thead th {\n",
       "        text-align: right;\n",
       "    }\n",
       "</style>\n",
       "<table border=\"1\" class=\"dataframe\">\n",
       "  <thead>\n",
       "    <tr style=\"text-align: right;\">\n",
       "      <th></th>\n",
       "      <th>start</th>\n",
       "      <th>city</th>\n",
       "      <th>state</th>\n",
       "      <th>shape</th>\n",
       "      <th>duration_description</th>\n",
       "    </tr>\n",
       "  </thead>\n",
       "  <tbody>\n",
       "    <tr>\n",
       "      <th>0</th>\n",
       "      <td>2018-08-09 23:41:00</td>\n",
       "      <td>Wildwood Crest</td>\n",
       "      <td>NJ</td>\n",
       "      <td>Oval</td>\n",
       "      <td>4 minutes</td>\n",
       "    </tr>\n",
       "    <tr>\n",
       "      <th>1</th>\n",
       "      <td>2018-08-09 21:30:00</td>\n",
       "      <td>White Sulphur Springs</td>\n",
       "      <td>WV</td>\n",
       "      <td>Light</td>\n",
       "      <td>10 minutes</td>\n",
       "    </tr>\n",
       "    <tr>\n",
       "      <th>2</th>\n",
       "      <td>2018-08-09 21:00:00</td>\n",
       "      <td>Sandy Springs</td>\n",
       "      <td>GA</td>\n",
       "      <td>Light</td>\n",
       "      <td>10 minutes</td>\n",
       "    </tr>\n",
       "    <tr>\n",
       "      <th>3</th>\n",
       "      <td>2018-08-09 21:00:00</td>\n",
       "      <td>Magnolia</td>\n",
       "      <td>DE</td>\n",
       "      <td>Egg</td>\n",
       "      <td>2 minutes</td>\n",
       "    </tr>\n",
       "    <tr>\n",
       "      <th>4</th>\n",
       "      <td>2018-08-09 20:25:00</td>\n",
       "      <td>San Diego (17 miles north of)</td>\n",
       "      <td>CA</td>\n",
       "      <td>Diamond</td>\n",
       "      <td>20 minutes</td>\n",
       "    </tr>\n",
       "  </tbody>\n",
       "</table>\n",
       "</div>"
      ],
      "text/plain": [
       "                start                           city state    shape  \\\n",
       "0 2018-08-09 23:41:00                 Wildwood Crest    NJ     Oval   \n",
       "1 2018-08-09 21:30:00          White Sulphur Springs    WV    Light   \n",
       "2 2018-08-09 21:00:00                  Sandy Springs    GA    Light   \n",
       "3 2018-08-09 21:00:00                       Magnolia    DE      Egg   \n",
       "4 2018-08-09 20:25:00  San Diego (17 miles north of)    CA  Diamond   \n",
       "\n",
       "  duration_description  \n",
       "0            4 minutes  \n",
       "1           10 minutes  \n",
       "2           10 minutes  \n",
       "3            2 minutes  \n",
       "4           20 minutes  "
      ]
     },
     "execution_count": 12,
     "metadata": {},
     "output_type": "execute_result"
    }
   ],
   "source": [
    "ufos_df.head()"
   ]
  },
  {
   "cell_type": "code",
   "execution_count": 14,
   "metadata": {},
   "outputs": [],
   "source": [
    "ufos_df.replace(to_replace='', value=np.nan, inplace=True, limit=None, regex=False, method='pad')\n",
    "ufos_df = ufos_df.dropna() "
   ]
  },
  {
   "cell_type": "code",
   "execution_count": 15,
   "metadata": {},
   "outputs": [
    {
     "data": {
      "text/html": [
       "<div>\n",
       "<style scoped>\n",
       "    .dataframe tbody tr th:only-of-type {\n",
       "        vertical-align: middle;\n",
       "    }\n",
       "\n",
       "    .dataframe tbody tr th {\n",
       "        vertical-align: top;\n",
       "    }\n",
       "\n",
       "    .dataframe thead th {\n",
       "        text-align: right;\n",
       "    }\n",
       "</style>\n",
       "<table border=\"1\" class=\"dataframe\">\n",
       "  <thead>\n",
       "    <tr style=\"text-align: right;\">\n",
       "      <th></th>\n",
       "      <th>start</th>\n",
       "      <th>city</th>\n",
       "      <th>state</th>\n",
       "      <th>shape</th>\n",
       "      <th>duration_description</th>\n",
       "    </tr>\n",
       "  </thead>\n",
       "  <tbody>\n",
       "    <tr>\n",
       "      <th>0</th>\n",
       "      <td>2018-08-09 23:41:00</td>\n",
       "      <td>Wildwood Crest</td>\n",
       "      <td>NJ</td>\n",
       "      <td>Oval</td>\n",
       "      <td>4 minutes</td>\n",
       "    </tr>\n",
       "    <tr>\n",
       "      <th>1</th>\n",
       "      <td>2018-08-09 21:30:00</td>\n",
       "      <td>White Sulphur Springs</td>\n",
       "      <td>WV</td>\n",
       "      <td>Light</td>\n",
       "      <td>10 minutes</td>\n",
       "    </tr>\n",
       "    <tr>\n",
       "      <th>2</th>\n",
       "      <td>2018-08-09 21:00:00</td>\n",
       "      <td>Sandy Springs</td>\n",
       "      <td>GA</td>\n",
       "      <td>Light</td>\n",
       "      <td>10 minutes</td>\n",
       "    </tr>\n",
       "    <tr>\n",
       "      <th>3</th>\n",
       "      <td>2018-08-09 21:00:00</td>\n",
       "      <td>Magnolia</td>\n",
       "      <td>DE</td>\n",
       "      <td>Egg</td>\n",
       "      <td>2 minutes</td>\n",
       "    </tr>\n",
       "    <tr>\n",
       "      <th>4</th>\n",
       "      <td>2018-08-09 20:25:00</td>\n",
       "      <td>San Diego (17 miles north of)</td>\n",
       "      <td>CA</td>\n",
       "      <td>Diamond</td>\n",
       "      <td>20 minutes</td>\n",
       "    </tr>\n",
       "  </tbody>\n",
       "</table>\n",
       "</div>"
      ],
      "text/plain": [
       "                start                           city state    shape  \\\n",
       "0 2018-08-09 23:41:00                 Wildwood Crest    NJ     Oval   \n",
       "1 2018-08-09 21:30:00          White Sulphur Springs    WV    Light   \n",
       "2 2018-08-09 21:00:00                  Sandy Springs    GA    Light   \n",
       "3 2018-08-09 21:00:00                       Magnolia    DE      Egg   \n",
       "4 2018-08-09 20:25:00  San Diego (17 miles north of)    CA  Diamond   \n",
       "\n",
       "  duration_description  \n",
       "0            4 minutes  \n",
       "1           10 minutes  \n",
       "2           10 minutes  \n",
       "3            2 minutes  \n",
       "4           20 minutes  "
      ]
     },
     "execution_count": 15,
     "metadata": {},
     "output_type": "execute_result"
    }
   ],
   "source": [
    "ufos_df.head()"
   ]
  },
  {
   "cell_type": "markdown",
   "metadata": {},
   "source": [
    "#### Engineering time"
   ]
  },
  {
   "cell_type": "code",
   "execution_count": 16,
   "metadata": {
    "collapsed": true
   },
   "outputs": [],
   "source": [
    "# function that infers the duration from the text \n",
    "def infer_duration_in_seconds(text):\n",
    "    # try different regexps to extract the total seconds\n",
    "    text = text.replace('<','')\n",
    "    text = text.replace('>','')\n",
    "    text = text.replace('?','')\n",
    "    text = text.replace('+','')\n",
    "    text = text.replace('~','')\n",
    "    metric_text = [\"second\",\"s\",\"Second\",\"segundo\",\"minute\",\"m\",\"min\",\"Minute\",\"hour\",\"h\",\"Hour\",'Currently']\n",
    "    metric_seconds = [1,1,1,1,60,60,60,3600,3600,3600,10]\n",
    "    for metric,mult in zip(metric_text, metric_seconds):\n",
    "        regex = \"\\s*(\\d+)\\+?\\s*{}s?\".format(metric)\n",
    "        res = re.findall(regex,text)\n",
    "        if len(res)>0:\n",
    "            return int(float(res[0]) * mult)\n",
    "    return 0"
   ]
  },
  {
   "cell_type": "code",
   "execution_count": 17,
   "metadata": {},
   "outputs": [],
   "source": [
    "# extract the duration in seconds\n",
    "ufos_df[\"duration_secs\"] = ufos_df[\"duration_description\"].apply(infer_duration_in_seconds)\n",
    "\n",
    "# now we can infer the end time of the UFO sighting as well\n",
    "# which will be useful for the animation later\n",
    "ufos_df[\"end\"] = ufos_df.apply(lambda x:x[\"start\"] + timedelta(seconds=x[\"duration_secs\"]),axis=1)\n",
    "ufos_df = ufos_df.dropna()"
   ]
  },
  {
   "cell_type": "code",
   "execution_count": 18,
   "metadata": {},
   "outputs": [
    {
     "data": {
      "text/html": [
       "<div>\n",
       "<style scoped>\n",
       "    .dataframe tbody tr th:only-of-type {\n",
       "        vertical-align: middle;\n",
       "    }\n",
       "\n",
       "    .dataframe tbody tr th {\n",
       "        vertical-align: top;\n",
       "    }\n",
       "\n",
       "    .dataframe thead th {\n",
       "        text-align: right;\n",
       "    }\n",
       "</style>\n",
       "<table border=\"1\" class=\"dataframe\">\n",
       "  <thead>\n",
       "    <tr style=\"text-align: right;\">\n",
       "      <th></th>\n",
       "      <th>start</th>\n",
       "      <th>city</th>\n",
       "      <th>state</th>\n",
       "      <th>shape</th>\n",
       "      <th>duration_description</th>\n",
       "      <th>duration_secs</th>\n",
       "      <th>end</th>\n",
       "    </tr>\n",
       "  </thead>\n",
       "  <tbody>\n",
       "    <tr>\n",
       "      <th>0</th>\n",
       "      <td>2018-08-09 23:41:00</td>\n",
       "      <td>Wildwood Crest</td>\n",
       "      <td>NJ</td>\n",
       "      <td>Oval</td>\n",
       "      <td>4 minutes</td>\n",
       "      <td>240</td>\n",
       "      <td>2018-08-09 23:45:00</td>\n",
       "    </tr>\n",
       "    <tr>\n",
       "      <th>1</th>\n",
       "      <td>2018-08-09 21:30:00</td>\n",
       "      <td>White Sulphur Springs</td>\n",
       "      <td>WV</td>\n",
       "      <td>Light</td>\n",
       "      <td>10 minutes</td>\n",
       "      <td>600</td>\n",
       "      <td>2018-08-09 21:40:00</td>\n",
       "    </tr>\n",
       "    <tr>\n",
       "      <th>2</th>\n",
       "      <td>2018-08-09 21:00:00</td>\n",
       "      <td>Sandy Springs</td>\n",
       "      <td>GA</td>\n",
       "      <td>Light</td>\n",
       "      <td>10 minutes</td>\n",
       "      <td>600</td>\n",
       "      <td>2018-08-09 21:10:00</td>\n",
       "    </tr>\n",
       "    <tr>\n",
       "      <th>3</th>\n",
       "      <td>2018-08-09 21:00:00</td>\n",
       "      <td>Magnolia</td>\n",
       "      <td>DE</td>\n",
       "      <td>Egg</td>\n",
       "      <td>2 minutes</td>\n",
       "      <td>120</td>\n",
       "      <td>2018-08-09 21:02:00</td>\n",
       "    </tr>\n",
       "    <tr>\n",
       "      <th>4</th>\n",
       "      <td>2018-08-09 20:25:00</td>\n",
       "      <td>San Diego (17 miles north of)</td>\n",
       "      <td>CA</td>\n",
       "      <td>Diamond</td>\n",
       "      <td>20 minutes</td>\n",
       "      <td>1200</td>\n",
       "      <td>2018-08-09 20:45:00</td>\n",
       "    </tr>\n",
       "  </tbody>\n",
       "</table>\n",
       "</div>"
      ],
      "text/plain": [
       "                start                           city state    shape  \\\n",
       "0 2018-08-09 23:41:00                 Wildwood Crest    NJ     Oval   \n",
       "1 2018-08-09 21:30:00          White Sulphur Springs    WV    Light   \n",
       "2 2018-08-09 21:00:00                  Sandy Springs    GA    Light   \n",
       "3 2018-08-09 21:00:00                       Magnolia    DE      Egg   \n",
       "4 2018-08-09 20:25:00  San Diego (17 miles north of)    CA  Diamond   \n",
       "\n",
       "  duration_description  duration_secs                 end  \n",
       "0            4 minutes            240 2018-08-09 23:45:00  \n",
       "1           10 minutes            600 2018-08-09 21:40:00  \n",
       "2           10 minutes            600 2018-08-09 21:10:00  \n",
       "3            2 minutes            120 2018-08-09 21:02:00  \n",
       "4           20 minutes           1200 2018-08-09 20:45:00  "
      ]
     },
     "execution_count": 18,
     "metadata": {},
     "output_type": "execute_result"
    }
   ],
   "source": [
    "ufos_df.head()"
   ]
  },
  {
   "cell_type": "markdown",
   "metadata": {},
   "source": [
    "#### Finding Locations"
   ]
  },
  {
   "cell_type": "code",
   "execution_count": 19,
   "metadata": {},
   "outputs": [
    {
     "data": {
      "text/plain": [
       "[{'boundingbox': ['36.930691', '37.2206658', '-76.646093', '-76.36161'],\n",
       "  'class': 'place',\n",
       "  'display_name': 'Newport News, Newport News City, Virginia, United States of America',\n",
       "  'icon': 'https://nominatim.openstreetmap.org/images/mapicons/poi_place_city.p.20.png',\n",
       "  'importance': 0.70997691224355,\n",
       "  'lat': '36.9786449',\n",
       "  'licence': 'Data © OpenStreetMap contributors, ODbL 1.0. https://osm.org/copyright',\n",
       "  'lon': '-76.4321089',\n",
       "  'osm_id': '206655',\n",
       "  'osm_type': 'relation',\n",
       "  'place_id': '178546686',\n",
       "  'type': 'city'},\n",
       " {'boundingbox': ['37.0728977', '37.0731352', '-76.4785431', '-76.4780971'],\n",
       "  'class': 'amenity',\n",
       "  'display_name': 'Station 8, Kingstowne Drive, Kingstowne Apartments, Deer Park, Newport News, Newport News City, Virginia, 23606, United States of America',\n",
       "  'icon': 'https://nominatim.openstreetmap.org/images/mapicons/amenity_firestation3.p.20.png',\n",
       "  'importance': 0.201,\n",
       "  'lat': '37.0730099',\n",
       "  'licence': 'Data © OpenStreetMap contributors, ODbL 1.0. https://osm.org/copyright',\n",
       "  'lon': '-76.4783237633768',\n",
       "  'osm_id': '248256123',\n",
       "  'osm_type': 'way',\n",
       "  'place_id': '128691357',\n",
       "  'type': 'fire_station'},\n",
       " {'boundingbox': ['37.0227094', '37.022939', '-76.45198', '-76.4517557'],\n",
       "  'class': 'building',\n",
       "  'display_name': 'Newport News, 9304, Warwick Boulevard, Huntington Heights, Newport News, Newport News City, Virginia, 23601, United States of America',\n",
       "  'importance': 0.201,\n",
       "  'lat': '37.02282465',\n",
       "  'licence': 'Data © OpenStreetMap contributors, ODbL 1.0. https://osm.org/copyright',\n",
       "  'lon': '-76.4518666694024',\n",
       "  'osm_id': '333001224',\n",
       "  'osm_type': 'way',\n",
       "  'place_id': '145358563',\n",
       "  'type': 'yes'}]"
      ]
     },
     "execution_count": 19,
     "metadata": {},
     "output_type": "execute_result"
    }
   ],
   "source": [
    "# http://wiki.openstreetmap.org/wiki/Nominatim_usage_policy\n",
    "# https://github.com/twain47/Nominatim/blob/master/docs/Installation.md\n",
    "geolocator = Nominatim()\n",
    "\n",
    "geolocator.query('Newport News')\n",
    "#geolocator.query(\"Houston, TX\")"
   ]
  },
  {
   "cell_type": "code",
   "execution_count": 20,
   "metadata": {
    "scrolled": true
   },
   "outputs": [
    {
     "name": "stderr",
     "output_type": "stream",
     "text": [
      "/usr/local/lib/python3.6/dist-packages/ipykernel/__main__.py:8: SettingWithCopyWarning: \n",
      "A value is trying to be set on a copy of a slice from a DataFrame\n",
      "\n",
      "See the caveats in the documentation: http://pandas.pydata.org/pandas-docs/stable/indexing.html#indexing-view-versus-copy\n",
      "/usr/local/lib/python3.6/dist-packages/pandas/core/indexing.py:189: SettingWithCopyWarning: \n",
      "A value is trying to be set on a copy of a slice from a DataFrame\n",
      "\n",
      "See the caveats in the documentation: http://pandas.pydata.org/pandas-docs/stable/indexing.html#indexing-view-versus-copy\n",
      "  self._setitem_with_indexer(indexer, value)\n",
      "/usr/local/lib/python3.6/dist-packages/ipykernel/__main__.py:9: SettingWithCopyWarning: \n",
      "A value is trying to be set on a copy of a slice from a DataFrame\n",
      "\n",
      "See the caveats in the documentation: http://pandas.pydata.org/pandas-docs/stable/indexing.html#indexing-view-versus-copy\n",
      "/usr/local/lib/python3.6/dist-packages/ipykernel/__main__.py:11: SettingWithCopyWarning: \n",
      "A value is trying to be set on a copy of a slice from a DataFrame\n",
      "\n",
      "See the caveats in the documentation: http://pandas.pydata.org/pandas-docs/stable/indexing.html#indexing-view-versus-copy\n",
      "/usr/local/lib/python3.6/dist-packages/ipykernel/__main__.py:12: SettingWithCopyWarning: \n",
      "A value is trying to be set on a copy of a slice from a DataFrame\n",
      "\n",
      "See the caveats in the documentation: http://pandas.pydata.org/pandas-docs/stable/indexing.html#indexing-view-versus-copy\n"
     ]
    }
   ],
   "source": [
    "#Be careful with too many queries made to the server in a short period of time\n",
    "\n",
    "ufos_df[\"lat\"] = 0\n",
    "ufos_df[\"lon\"] = 0\n",
    "for i in range(len(ufos_df[0:10])):\n",
    "    try:\n",
    "        resp_json = geolocator.query(ufos_df['city'][i])\n",
    "        ufos_df[\"lat\"][i] = resp_json[0]['lat']\n",
    "        ufos_df[\"lon\"][i] = resp_json[0]['lon']\n",
    "    except:\n",
    "        ufos_df[\"lat\"][i] = 0\n",
    "        ufos_df[\"lat\"][i] = 0\n",
    "    time.sleep(1.5)"
   ]
  },
  {
   "cell_type": "code",
   "execution_count": 21,
   "metadata": {},
   "outputs": [
    {
     "data": {
      "text/html": [
       "<div>\n",
       "<style scoped>\n",
       "    .dataframe tbody tr th:only-of-type {\n",
       "        vertical-align: middle;\n",
       "    }\n",
       "\n",
       "    .dataframe tbody tr th {\n",
       "        vertical-align: top;\n",
       "    }\n",
       "\n",
       "    .dataframe thead th {\n",
       "        text-align: right;\n",
       "    }\n",
       "</style>\n",
       "<table border=\"1\" class=\"dataframe\">\n",
       "  <thead>\n",
       "    <tr style=\"text-align: right;\">\n",
       "      <th></th>\n",
       "      <th>start</th>\n",
       "      <th>city</th>\n",
       "      <th>state</th>\n",
       "      <th>shape</th>\n",
       "      <th>duration_description</th>\n",
       "      <th>duration_secs</th>\n",
       "      <th>end</th>\n",
       "      <th>lat</th>\n",
       "      <th>lon</th>\n",
       "    </tr>\n",
       "  </thead>\n",
       "  <tbody>\n",
       "    <tr>\n",
       "      <th>0</th>\n",
       "      <td>2018-08-09 23:41:00</td>\n",
       "      <td>Wildwood Crest</td>\n",
       "      <td>NJ</td>\n",
       "      <td>Oval</td>\n",
       "      <td>4 minutes</td>\n",
       "      <td>240</td>\n",
       "      <td>2018-08-09 23:45:00</td>\n",
       "      <td>38.9748351</td>\n",
       "      <td>-74.8335015</td>\n",
       "    </tr>\n",
       "    <tr>\n",
       "      <th>1</th>\n",
       "      <td>2018-08-09 21:30:00</td>\n",
       "      <td>White Sulphur Springs</td>\n",
       "      <td>WV</td>\n",
       "      <td>Light</td>\n",
       "      <td>10 minutes</td>\n",
       "      <td>600</td>\n",
       "      <td>2018-08-09 21:40:00</td>\n",
       "      <td>37.7965149</td>\n",
       "      <td>-80.2975734</td>\n",
       "    </tr>\n",
       "    <tr>\n",
       "      <th>2</th>\n",
       "      <td>2018-08-09 21:00:00</td>\n",
       "      <td>Sandy Springs</td>\n",
       "      <td>GA</td>\n",
       "      <td>Light</td>\n",
       "      <td>10 minutes</td>\n",
       "      <td>600</td>\n",
       "      <td>2018-08-09 21:10:00</td>\n",
       "      <td>33.9242688</td>\n",
       "      <td>-84.3785379</td>\n",
       "    </tr>\n",
       "    <tr>\n",
       "      <th>3</th>\n",
       "      <td>2018-08-09 21:00:00</td>\n",
       "      <td>Magnolia</td>\n",
       "      <td>DE</td>\n",
       "      <td>Egg</td>\n",
       "      <td>2 minutes</td>\n",
       "      <td>120</td>\n",
       "      <td>2018-08-09 21:02:00</td>\n",
       "      <td>33.2670725</td>\n",
       "      <td>-93.2393341</td>\n",
       "    </tr>\n",
       "    <tr>\n",
       "      <th>4</th>\n",
       "      <td>2018-08-09 20:25:00</td>\n",
       "      <td>San Diego (17 miles north of)</td>\n",
       "      <td>CA</td>\n",
       "      <td>Diamond</td>\n",
       "      <td>20 minutes</td>\n",
       "      <td>1200</td>\n",
       "      <td>2018-08-09 20:45:00</td>\n",
       "      <td>0</td>\n",
       "      <td>0</td>\n",
       "    </tr>\n",
       "    <tr>\n",
       "      <th>5</th>\n",
       "      <td>2018-08-09 04:55:00</td>\n",
       "      <td>Downington</td>\n",
       "      <td>PA</td>\n",
       "      <td>Triangle</td>\n",
       "      <td>15 minutes</td>\n",
       "      <td>900</td>\n",
       "      <td>2018-08-09 05:10:00</td>\n",
       "      <td>40.331676</td>\n",
       "      <td>-76.7811298</td>\n",
       "    </tr>\n",
       "    <tr>\n",
       "      <th>6</th>\n",
       "      <td>2018-08-09 01:30:00</td>\n",
       "      <td>Burnaby (Canada)</td>\n",
       "      <td>BC</td>\n",
       "      <td>Changing</td>\n",
       "      <td>2+ hours</td>\n",
       "      <td>7200</td>\n",
       "      <td>2018-08-09 03:30:00</td>\n",
       "      <td>49.2433804</td>\n",
       "      <td>-122.9725459</td>\n",
       "    </tr>\n",
       "    <tr>\n",
       "      <th>7</th>\n",
       "      <td>2018-08-09 01:00:00</td>\n",
       "      <td>Sturgis</td>\n",
       "      <td>SD</td>\n",
       "      <td>Formation</td>\n",
       "      <td>&gt;30 seconds</td>\n",
       "      <td>30</td>\n",
       "      <td>2018-08-09 01:00:30</td>\n",
       "      <td>44.409707</td>\n",
       "      <td>-103.509079</td>\n",
       "    </tr>\n",
       "    <tr>\n",
       "      <th>8</th>\n",
       "      <td>2018-08-08 23:00:00</td>\n",
       "      <td>St. Peters</td>\n",
       "      <td>MO</td>\n",
       "      <td>Fireball</td>\n",
       "      <td>2 minutes</td>\n",
       "      <td>120</td>\n",
       "      <td>2018-08-08 23:02:00</td>\n",
       "      <td>38.8010514</td>\n",
       "      <td>-90.627881</td>\n",
       "    </tr>\n",
       "    <tr>\n",
       "      <th>9</th>\n",
       "      <td>2018-08-08 21:30:00</td>\n",
       "      <td>Bradford</td>\n",
       "      <td>RI</td>\n",
       "      <td>Circle</td>\n",
       "      <td>3 minutes</td>\n",
       "      <td>180</td>\n",
       "      <td>2018-08-08 21:33:00</td>\n",
       "      <td>53.7944229</td>\n",
       "      <td>-1.7519186</td>\n",
       "    </tr>\n",
       "  </tbody>\n",
       "</table>\n",
       "</div>"
      ],
      "text/plain": [
       "                start                           city state      shape  \\\n",
       "0 2018-08-09 23:41:00                 Wildwood Crest    NJ       Oval   \n",
       "1 2018-08-09 21:30:00          White Sulphur Springs    WV      Light   \n",
       "2 2018-08-09 21:00:00                  Sandy Springs    GA      Light   \n",
       "3 2018-08-09 21:00:00                       Magnolia    DE        Egg   \n",
       "4 2018-08-09 20:25:00  San Diego (17 miles north of)    CA    Diamond   \n",
       "5 2018-08-09 04:55:00                     Downington    PA   Triangle   \n",
       "6 2018-08-09 01:30:00               Burnaby (Canada)    BC   Changing   \n",
       "7 2018-08-09 01:00:00                        Sturgis    SD  Formation   \n",
       "8 2018-08-08 23:00:00                     St. Peters    MO   Fireball   \n",
       "9 2018-08-08 21:30:00                       Bradford    RI     Circle   \n",
       "\n",
       "  duration_description  duration_secs                 end         lat  \\\n",
       "0            4 minutes            240 2018-08-09 23:45:00  38.9748351   \n",
       "1           10 minutes            600 2018-08-09 21:40:00  37.7965149   \n",
       "2           10 minutes            600 2018-08-09 21:10:00  33.9242688   \n",
       "3            2 minutes            120 2018-08-09 21:02:00  33.2670725   \n",
       "4           20 minutes           1200 2018-08-09 20:45:00           0   \n",
       "5           15 minutes            900 2018-08-09 05:10:00   40.331676   \n",
       "6             2+ hours           7200 2018-08-09 03:30:00  49.2433804   \n",
       "7          >30 seconds             30 2018-08-09 01:00:30   44.409707   \n",
       "8            2 minutes            120 2018-08-08 23:02:00  38.8010514   \n",
       "9            3 minutes            180 2018-08-08 21:33:00  53.7944229   \n",
       "\n",
       "            lon  \n",
       "0   -74.8335015  \n",
       "1   -80.2975734  \n",
       "2   -84.3785379  \n",
       "3   -93.2393341  \n",
       "4             0  \n",
       "5   -76.7811298  \n",
       "6  -122.9725459  \n",
       "7   -103.509079  \n",
       "8    -90.627881  \n",
       "9    -1.7519186  "
      ]
     },
     "execution_count": 21,
     "metadata": {},
     "output_type": "execute_result"
    }
   ],
   "source": [
    "# http://stackoverflow.com/questions/17098654/how-to-store-data-frame-using-pandas-python\n",
    "ufos_df.to_pickle(os.path.join(outputs,'ufos_df.pkl'))\n",
    "ufos_df = pd.read_pickle(os.path.join(outputs,'ufos_df.pkl'))\n",
    "ufos_df.head(10)"
   ]
  },
  {
   "cell_type": "code",
   "execution_count": 22,
   "metadata": {},
   "outputs": [],
   "source": [
    "# Note: dropna will drop any columns with None values, which is desirable\n",
    "ufos_df[[\"start\",\"end\",\"lon\",\"lat\",\"shape\"]].dropna().to_csv(os.path.join(outputs,'ufo_data.csv'),\n",
    "                                                             index=False, \n",
    "                                                             encoding=\"utf-8\")"
   ]
  },
  {
   "cell_type": "markdown",
   "metadata": {},
   "source": [
    "### Using geographical resources for twitter Analysis"
   ]
  },
  {
   "cell_type": "markdown",
   "metadata": {},
   "source": [
    "https://github.com/bear/python-twitter (before was http://code.google.com/p/python-twitter/)  \n",
    "https://dev.twitter.com/docs  \n",
    "\n",
    "Twitter API Keys  \n",
    "Please generate yours...  \n",
    "Go to http://twitter.com/apps/new to create an app and get these items  \n",
    "See https://dev.twitter.com/docs/auth/oauth for more information on Twitter's OAuth implementation  \n",
    "https://dev.twitter.com/rest/reference/get/account/verify_credentials  \n",
    "https://dev.twitter.com/docs/auth/oauth  \n",
    "https://dev.twitter.com/apps/new  \n",
    "\n",
    "Inspiration: http://onemilliontweetmap.com/  "
   ]
  },
  {
   "cell_type": "code",
   "execution_count": 23,
   "metadata": {},
   "outputs": [],
   "source": [
    "with open('twitter_tokens.txt', 'r') as twitter_tokens:\n",
    "    tokens = twitter_tokens.read().split(',')\n",
    "consumer_key = tokens[0].strip()\n",
    "consumer_secret = tokens[1].strip()\n",
    "access_token = tokens[2].strip()\n",
    "access_token_secret = tokens[3].strip()"
   ]
  },
  {
   "cell_type": "markdown",
   "metadata": {},
   "source": [
    "Acessing Twitter (with or without authentication)"
   ]
  },
  {
   "cell_type": "code",
   "execution_count": 24,
   "metadata": {},
   "outputs": [],
   "source": [
    "#api = twitter.Api() # Accessing with no authentication\n",
    "api = twitter.Api(consumer_key, consumer_secret, access_token, access_token_secret)"
   ]
  },
  {
   "cell_type": "code",
   "execution_count": 25,
   "metadata": {},
   "outputs": [
    {
     "name": "stdout",
     "output_type": "stream",
     "text": [
      "{\"created_at\": \"Thu Apr 09 10:44:07 +0000 2009\", \"description\": \"Researcher and Professor\", \"favourites_count\": 28, \"followers_count\": 501, \"friends_count\": 145, \"id\": 29959702, \"lang\": \"pt\", \"listed_count\": 17, \"location\": \"Rio de Janeiro\", \"name\": \"Renato Rocha Souza\", \"profile_background_color\": \"9AE4E8\", \"profile_background_image_url\": \"http://abs.twimg.com/images/themes/theme1/bg.png\", \"profile_image_url\": \"http://pbs.twimg.com/profile_images/503088023/Renato2_normal.JPG\", \"profile_link_color\": \"0084B4\", \"profile_sidebar_fill_color\": \"DDFFCC\", \"profile_text_color\": \"333333\", \"screen_name\": \"rrsouza\", \"status\": {\"created_at\": \"Sun Mar 18 00:32:30 +0000 2018\", \"favorite_count\": 1, \"id\": 975168027816873985, \"id_str\": \"975168027816873985\", \"in_reply_to_screen_name\": \"fccoelho\", \"in_reply_to_status_id\": 974792170917056512, \"in_reply_to_user_id\": 7433062, \"lang\": \"pt\", \"source\": \"<a href=\\\"http://twitter.com/download/android\\\" rel=\\\"nofollow\\\">Twitter for Android</a>\", \"text\": \"@fccoelho Parece que foi revogado... seria absurdo!\"}, \"statuses_count\": 1359, \"url\": \"http://t.co/Bw5u7mg5\"}\n"
     ]
    }
   ],
   "source": [
    "print(api.VerifyCredentials())"
   ]
  },
  {
   "cell_type": "markdown",
   "metadata": {},
   "source": [
    "#### Lexical Analysis"
   ]
  },
  {
   "cell_type": "markdown",
   "metadata": {},
   "source": [
    "Recent (random) public messages"
   ]
  },
  {
   "cell_type": "code",
   "execution_count": 26,
   "metadata": {},
   "outputs": [],
   "source": [
    "msgpublicas = api.GetStreamSample()"
   ]
  },
  {
   "cell_type": "code",
   "execution_count": 27,
   "metadata": {},
   "outputs": [
    {
     "name": "stdout",
     "output_type": "stream",
     "text": [
      "اللهم إنك جميلٌ تحب الجمال فاللهُم جمّل أيامنا وجمّل حظوظنا وجمّل أقوالنا وجمّلنا بأحسن الاخلاق\n",
      "\n",
      "oakton is so incompetent that they cant even make schedules properly without something going wrong\n",
      "\n",
      "@steved4ve April! I'm working hard on edits! Gotta make sure it's good enough to live up to that cover! 😁🔥🔥🔥\n",
      "\n",
      "RT @squidslippers: one time in high school i was giving my friend a ride home and the girl he was texting asked if he could give her a ride…\n",
      "\n",
      "RT @Vitoriamaori: @RodrigoRochx ela disse tudo, eu precisava ler isso.\n",
      "\n"
     ]
    }
   ],
   "source": [
    "for i in range(15):\n",
    "    tweet = next(msgpublicas)\n",
    "    if 'text' in tweet:\n",
    "        print(u'{}\\n'.format(tweet['text']))"
   ]
  },
  {
   "cell_type": "markdown",
   "metadata": {},
   "source": [
    "Tweet Structure"
   ]
  },
  {
   "cell_type": "code",
   "execution_count": 28,
   "metadata": {},
   "outputs": [
    {
     "data": {
      "text/plain": [
       "{'contributors': None,\n",
       " 'coordinates': None,\n",
       " 'created_at': 'Mon Aug 13 19:45:53 +0000 2018',\n",
       " 'entities': {'hashtags': [{'indices': [21, 52],\n",
       "    'text': 'الشورُ_المهدويُّ_أمانٌ_للشبابِ'}],\n",
       "  'symbols': [],\n",
       "  'urls': [],\n",
       "  'user_mentions': [{'id': 825429682648662016,\n",
       "    'id_str': '825429682648662016',\n",
       "    'indices': [3, 19],\n",
       "    'name': 'إعلام الشامية',\n",
       "    'screen_name': 'media_alshaamia'}]},\n",
       " 'favorite_count': 0,\n",
       " 'favorited': False,\n",
       " 'filter_level': 'low',\n",
       " 'geo': None,\n",
       " 'id': 1029091692127969282,\n",
       " 'id_str': '1029091692127969282',\n",
       " 'in_reply_to_screen_name': None,\n",
       " 'in_reply_to_status_id': None,\n",
       " 'in_reply_to_status_id_str': None,\n",
       " 'in_reply_to_user_id': None,\n",
       " 'in_reply_to_user_id_str': None,\n",
       " 'is_quote_status': False,\n",
       " 'lang': 'ar',\n",
       " 'place': None,\n",
       " 'quote_count': 0,\n",
       " 'reply_count': 0,\n",
       " 'retweet_count': 0,\n",
       " 'retweeted': False,\n",
       " 'retweeted_status': {'contributors': None,\n",
       "  'coordinates': None,\n",
       "  'created_at': 'Wed Jun 27 21:36:39 +0000 2018',\n",
       "  'display_text_range': [0, 140],\n",
       "  'entities': {'hashtags': [{'indices': [0, 31],\n",
       "     'text': 'الشورُ_المهدويُّ_أمانٌ_للشبابِ'}],\n",
       "   'symbols': [],\n",
       "   'urls': [{'display_url': 'twitter.com/i/web/status/1…',\n",
       "     'expanded_url': 'https://twitter.com/i/web/status/1012087337499680768',\n",
       "     'indices': [117, 140],\n",
       "     'url': 'https://t.co/UxgOUo2qIX'}],\n",
       "   'user_mentions': []},\n",
       "  'extended_tweet': {'display_text_range': [0, 147],\n",
       "   'entities': {'hashtags': [{'indices': [0, 31],\n",
       "      'text': 'الشورُ_المهدويُّ_أمانٌ_للشبابِ'}],\n",
       "    'media': [{'display_url': 'pic.twitter.com/SWCJBofHUo',\n",
       "      'expanded_url': 'https://twitter.com/media_alshaamia/status/1012087337499680768/photo/1',\n",
       "      'id': 1012087223876022273,\n",
       "      'id_str': '1012087223876022273',\n",
       "      'indices': [148, 171],\n",
       "      'media_url': 'http://pbs.twimg.com/media/Dgun98TXcAEiUV7.jpg',\n",
       "      'media_url_https': 'https://pbs.twimg.com/media/Dgun98TXcAEiUV7.jpg',\n",
       "      'sizes': {'large': {'h': 540, 'resize': 'fit', 'w': 960},\n",
       "       'medium': {'h': 540, 'resize': 'fit', 'w': 960},\n",
       "       'small': {'h': 383, 'resize': 'fit', 'w': 680},\n",
       "       'thumb': {'h': 150, 'resize': 'crop', 'w': 150}},\n",
       "      'type': 'photo',\n",
       "      'url': 'https://t.co/SWCJBofHUo'},\n",
       "     {'display_url': 'pic.twitter.com/SWCJBofHUo',\n",
       "      'expanded_url': 'https://twitter.com/media_alshaamia/status/1012087337499680768/photo/1',\n",
       "      'id': 1012087257002598400,\n",
       "      'id_str': '1012087257002598400',\n",
       "      'indices': [148, 171],\n",
       "      'media_url': 'http://pbs.twimg.com/media/Dgun_3tW4AAC1I7.jpg',\n",
       "      'media_url_https': 'https://pbs.twimg.com/media/Dgun_3tW4AAC1I7.jpg',\n",
       "      'sizes': {'large': {'h': 540, 'resize': 'fit', 'w': 960},\n",
       "       'medium': {'h': 540, 'resize': 'fit', 'w': 960},\n",
       "       'small': {'h': 383, 'resize': 'fit', 'w': 680},\n",
       "       'thumb': {'h': 150, 'resize': 'crop', 'w': 150}},\n",
       "      'type': 'photo',\n",
       "      'url': 'https://t.co/SWCJBofHUo'}],\n",
       "    'symbols': [],\n",
       "    'urls': [{'display_url': 'facebook.com/media.Shamiya/…',\n",
       "      'expanded_url': 'https://www.facebook.com/media.Shamiya/posts/1607416456047027',\n",
       "      'indices': [124, 147],\n",
       "      'url': 'https://t.co/Ck21r5vexd'}],\n",
       "    'user_mentions': []},\n",
       "   'extended_entities': {'media': [{'display_url': 'pic.twitter.com/SWCJBofHUo',\n",
       "      'expanded_url': 'https://twitter.com/media_alshaamia/status/1012087337499680768/photo/1',\n",
       "      'id': 1012087223876022273,\n",
       "      'id_str': '1012087223876022273',\n",
       "      'indices': [148, 171],\n",
       "      'media_url': 'http://pbs.twimg.com/media/Dgun98TXcAEiUV7.jpg',\n",
       "      'media_url_https': 'https://pbs.twimg.com/media/Dgun98TXcAEiUV7.jpg',\n",
       "      'sizes': {'large': {'h': 540, 'resize': 'fit', 'w': 960},\n",
       "       'medium': {'h': 540, 'resize': 'fit', 'w': 960},\n",
       "       'small': {'h': 383, 'resize': 'fit', 'w': 680},\n",
       "       'thumb': {'h': 150, 'resize': 'crop', 'w': 150}},\n",
       "      'type': 'photo',\n",
       "      'url': 'https://t.co/SWCJBofHUo'},\n",
       "     {'display_url': 'pic.twitter.com/SWCJBofHUo',\n",
       "      'expanded_url': 'https://twitter.com/media_alshaamia/status/1012087337499680768/photo/1',\n",
       "      'id': 1012087257002598400,\n",
       "      'id_str': '1012087257002598400',\n",
       "      'indices': [148, 171],\n",
       "      'media_url': 'http://pbs.twimg.com/media/Dgun_3tW4AAC1I7.jpg',\n",
       "      'media_url_https': 'https://pbs.twimg.com/media/Dgun_3tW4AAC1I7.jpg',\n",
       "      'sizes': {'large': {'h': 540, 'resize': 'fit', 'w': 960},\n",
       "       'medium': {'h': 540, 'resize': 'fit', 'w': 960},\n",
       "       'small': {'h': 383, 'resize': 'fit', 'w': 680},\n",
       "       'thumb': {'h': 150, 'resize': 'crop', 'w': 150}},\n",
       "      'type': 'photo',\n",
       "      'url': 'https://t.co/SWCJBofHUo'}]},\n",
       "   'full_text': '#الشورُ_المهدويُّ_أمانٌ_للشبابِ\\n\\n المركز الإعلامي-إعلام الشامية\\n\\nصلاة العشاءين جماعة في جامع السيد الشهيد محمد باقر الصدر  \\nhttps://t.co/Ck21r5vexd https://t.co/SWCJBofHUo'},\n",
       "  'favorite_count': 150,\n",
       "  'favorited': False,\n",
       "  'filter_level': 'low',\n",
       "  'geo': None,\n",
       "  'id': 1012087337499680768,\n",
       "  'id_str': '1012087337499680768',\n",
       "  'in_reply_to_screen_name': None,\n",
       "  'in_reply_to_status_id': None,\n",
       "  'in_reply_to_status_id_str': None,\n",
       "  'in_reply_to_user_id': None,\n",
       "  'in_reply_to_user_id_str': None,\n",
       "  'is_quote_status': False,\n",
       "  'lang': 'ar',\n",
       "  'place': None,\n",
       "  'possibly_sensitive': False,\n",
       "  'quote_count': 0,\n",
       "  'reply_count': 5,\n",
       "  'retweet_count': 132,\n",
       "  'retweeted': False,\n",
       "  'source': '<a href=\"http://twitter.com\" rel=\"nofollow\">Twitter Web Client</a>',\n",
       "  'text': '#الشورُ_المهدويُّ_أمانٌ_للشبابِ\\n\\n المركز الإعلامي-إعلام الشامية\\n\\nصلاة العشاءين جماعة في جامع السيد الشهيد محمد باقر… https://t.co/UxgOUo2qIX',\n",
       "  'truncated': True,\n",
       "  'user': {'contributors_enabled': False,\n",
       "   'created_at': 'Sat Jan 28 19:45:46 +0000 2017',\n",
       "   'default_profile': False,\n",
       "   'default_profile_image': False,\n",
       "   'description': 'المركز الإعلامي لمكتب سماحة المرجع المحقق #الصرخي_الحسني(دام ظله)في الشامية',\n",
       "   'favourites_count': 108,\n",
       "   'follow_request_sent': None,\n",
       "   'followers_count': 1750,\n",
       "   'following': None,\n",
       "   'friends_count': 44,\n",
       "   'geo_enabled': False,\n",
       "   'id': 825429682648662016,\n",
       "   'id_str': '825429682648662016',\n",
       "   'is_translator': False,\n",
       "   'lang': 'ar',\n",
       "   'listed_count': 21,\n",
       "   'location': 'شارع الكورنيش_ قرب جسر الشامية',\n",
       "   'name': 'إعلام الشامية',\n",
       "   'notifications': None,\n",
       "   'profile_background_color': '000000',\n",
       "   'profile_background_image_url': 'http://abs.twimg.com/images/themes/theme1/bg.png',\n",
       "   'profile_background_image_url_https': 'https://abs.twimg.com/images/themes/theme1/bg.png',\n",
       "   'profile_background_tile': False,\n",
       "   'profile_banner_url': 'https://pbs.twimg.com/profile_banners/825429682648662016/1529362316',\n",
       "   'profile_image_url': 'http://pbs.twimg.com/profile_images/825734195175628808/_AuWWoiA_normal.jpg',\n",
       "   'profile_image_url_https': 'https://pbs.twimg.com/profile_images/825734195175628808/_AuWWoiA_normal.jpg',\n",
       "   'profile_link_color': '19CF86',\n",
       "   'profile_sidebar_border_color': '000000',\n",
       "   'profile_sidebar_fill_color': '000000',\n",
       "   'profile_text_color': '000000',\n",
       "   'profile_use_background_image': False,\n",
       "   'protected': False,\n",
       "   'screen_name': 'media_alshaamia',\n",
       "   'statuses_count': 12540,\n",
       "   'time_zone': None,\n",
       "   'translator_type': 'none',\n",
       "   'url': None,\n",
       "   'utc_offset': None,\n",
       "   'verified': False}},\n",
       " 'source': '<a href=\"http://twitter.com/download/android\" rel=\"nofollow\">Twitter for Android</a>',\n",
       " 'text': 'RT @media_alshaamia: #الشورُ_المهدويُّ_أمانٌ_للشبابِ\\n\\n المركز الإعلامي-إعلام الشامية\\n\\nصلاة العشاءين جماعة في جامع السيد الشهيد محمد باقر ال…',\n",
       " 'timestamp_ms': '1534189553659',\n",
       " 'truncated': False,\n",
       " 'user': {'contributors_enabled': False,\n",
       "  'created_at': 'Fri Aug 10 00:30:27 +0000 2018',\n",
       "  'default_profile': True,\n",
       "  'default_profile_image': False,\n",
       "  'description': None,\n",
       "  'favourites_count': 284,\n",
       "  'follow_request_sent': None,\n",
       "  'followers_count': 0,\n",
       "  'following': None,\n",
       "  'friends_count': 0,\n",
       "  'geo_enabled': False,\n",
       "  'id': 1027713752014249985,\n",
       "  'id_str': '1027713752014249985',\n",
       "  'is_translator': False,\n",
       "  'lang': 'en',\n",
       "  'listed_count': 0,\n",
       "  'location': None,\n",
       "  'name': 'حسين عبادي الحميداوي',\n",
       "  'notifications': None,\n",
       "  'profile_background_color': 'F5F8FA',\n",
       "  'profile_background_image_url': '',\n",
       "  'profile_background_image_url_https': '',\n",
       "  'profile_background_tile': False,\n",
       "  'profile_image_url': 'http://abs.twimg.com/sticky/default_profile_images/default_profile_normal.png',\n",
       "  'profile_image_url_https': 'https://abs.twimg.com/sticky/default_profile_images/default_profile_normal.png',\n",
       "  'profile_link_color': '1DA1F2',\n",
       "  'profile_sidebar_border_color': 'C0DEED',\n",
       "  'profile_sidebar_fill_color': 'DDEEF6',\n",
       "  'profile_text_color': '333333',\n",
       "  'profile_use_background_image': True,\n",
       "  'protected': False,\n",
       "  'screen_name': 'uxtF0gnSRyUbor6',\n",
       "  'statuses_count': 564,\n",
       "  'time_zone': None,\n",
       "  'translator_type': 'none',\n",
       "  'url': None,\n",
       "  'utc_offset': None,\n",
       "  'verified': False}}"
      ]
     },
     "execution_count": 28,
     "metadata": {},
     "output_type": "execute_result"
    }
   ],
   "source": [
    "while True:\n",
    "    tweet = next(msgpublicas)\n",
    "    if 'user' in tweet:\n",
    "        break\n",
    "tweet"
   ]
  },
  {
   "cell_type": "code",
   "execution_count": 29,
   "metadata": {},
   "outputs": [
    {
     "data": {
      "text/html": [
       "<img src=\"http://mike.teczno.com/img/raffi-krikorian-map-of-a-tweet.png\"/>"
      ],
      "text/plain": [
       "<IPython.core.display.Image object>"
      ]
     },
     "execution_count": 29,
     "metadata": {},
     "output_type": "execute_result"
    }
   ],
   "source": [
    "Image(url='http://mike.teczno.com/img/raffi-krikorian-map-of-a-tweet.png')"
   ]
  },
  {
   "cell_type": "markdown",
   "metadata": {},
   "source": [
    "Recent messages from an user"
   ]
  },
  {
   "cell_type": "code",
   "execution_count": 30,
   "metadata": {},
   "outputs": [
    {
     "name": "stdout",
     "output_type": "stream",
     "text": [
      "['RT @media_alshaamia: #الشورُ_المهدويُّ_أمانٌ_للشبابِ\\n\\n المركز الإعلامي-إعلام الشامية\\n\\nصلاة العشاءين جماعة في جامع السيد الشهيد محمد باقر ال…', 'RT @media_alshaamia: من طه من طه هاك أخذ فتواها[ أداء. زكي النائلي]..{كلمات..وسام الكناني}\\nhttps://t.co/neVCSlXudT', 'RT @media_alshaamia: #الشورُ_المهدويُّ_أمانٌ_للشباب\\n\\n المركز الإعلامي-إعلام الشامية\\nخطيب جمعة الشامية :: المؤمن ومواجهته للتحديات والصعاب\\nh…', 'RT @media_alshaamia: #الشورُ_المهدويُّ_أمانٌ_للشبابِ\\n\\n المركز الإعلامي-إعلام الشامية\\n\\n\"علامات الوقف بالقران\"  عنوان درس السيد يوسف الحسيني…', 'RT @media_alshaamia: #الشورُ_المهدويُّ_أمانٌ_للشبابِ\\n\\n المركز الإعلامي-إعلام الشامية\\n\\nالوكيل الشرعي يحث المؤمنين على المواظبة بالوجوبات الع…', 'RT @media_alshaamia: #الشورُ_المهدويُّ_أمانٌ_للشبابِ\\n\\n المركز الإعلامي-إعلام الشامية\\n\\nالشيخ الجناحي يلقي درسًا في تلاوة القرآن الكريم\\nhttps…', 'RT @media_alshaamia: #الشورُ_المهدويُّ_أمانٌ_للشبابِ\\n\\n المركز الإعلامي-إعلام الشامية\\nمجلس عزاء شور مهدوي في هيأة شور قائم آل محمد (عجل الله…', 'RT @media_alshaamia: #الشورُ_المهدويُّ_أمانٌ_للشبابِ \\nالمركز الإعلامي-إعلام الشامية\\n\\nقراءة زيارة يوم الجمعة المخصوصة للإمام المهدي المنتظر…', 'RT @media_alshaamia: #الشورُ_المهدويُّ_أمانٌ_للشبابِ\\n\\nالمركز الإعلامي-إعلام الشامية\\nالبث المباشر:\\nصلاة العشاء  جماعه بإمامة الشيخ عباس الخز…', 'RT @media_alshaamia: #الشورُ_المهدويُّ_أمانٌ_للشبابِ\\n\\n المركز الإعلامي-إعلام الشامية\\nالبث المباشر:\\n  تدريب الرواديد الاشبال على ارتقاء المن…', 'RT @media_alshaamia: #الشورُ_المهدويُّ_أمانٌ_للشبابِ\\n\\n المركز الإعلامي-إعلام الشامية\\n\\nقراءة دعاء مقاتل بن سليمان في هيأة شور قائم آل محمد (…', 'RT @media_alshaamia: #الشورُ_المهدويُّ_أمانٌ_للشبابِ\\n\\n المركز الإعلامي-إعلام الشامية\\n\\n🔴البث المباشر:\\n  قراءة دعاء السمات جماعة بصوت الأستاذ…', 'RT @media_alshaamia: #الشورُ_المهدويُّ_أمانٌ_للشبابِ\\n\\n المركز الإعلامي-إعلام الشامية\\n\\nقراءة زيارة دعاء السمات جماعة في المكتب الشرعي\\nhttps:…', 'RT @media_alshaamia: #الشورُ_المهدويُّ_أمانٌ_للشبابِ\\n\\n المركز الإعلامي-إعلام الشامية\\n\\nقراءة زيارة دعاء السمات جماعة بصوت ام محمد الكفائي\\nht…', 'RT @media_alshaamia: #الشورُ_المهدويُّ_أمانٌ_للشبابِ\\n\\n المركز الإعلامي-إعلام الشامية\\n\\n\" النجاسات\"عنوان درس الأستاذة أم مهدي الكعبي في الفقه…', 'RT @media_alshaamia: #الشورُ_المهدويُّ_أمانٌ_للشبابِ\\n\\n المركز الإعلامي-إعلام الشامية\\n\\n🔴البث المباشر:\\n قراءة زيارة الاربعين بصوت المؤمن محمد…', 'RT @media_alshaamia: #الشورُ_المهدويُّ_أمانٌ_للشبابِ\\n\\n المركز الإعلامي-إعلام الشامية\\n\\nصلاة العشاءين جماعة في جامع السيد الشهيد محمد باقر ال…', 'RT @media_alshaamia: #الشورُ_المهدويُّ_أمانٌ_للشبابِ\\n\\n المركز الإعلامي-إعلام الشامية\\n\\n🔴البث المباشر::\\nصلاة العصر جماعة بامامة الاستاذ حيدر…', 'RT @media_alshaamia: #الشورُ_للشبابِ_علاجٌ_وشفاءٌ\\n\\n المركز الإعلامي-إعلام الشامية\\n\\nقراءة مناجاة الزاهدين  في جامع السيد الشهيد محمد باقر ال…', 'RT @media_alshaamia: #الشورُ_للشبابِ_علاجٌ_وشفاءٌ\\n\\n المركز الإعلامي-إعلام الشامية\\n\\n\"الثبات على النفاق \"  عنوان درس الاستاذ الحميداوي  في بح…']\n"
     ]
    }
   ],
   "source": [
    "msguser = api.GetUserTimeline(tweet['user']['id'])\n",
    "print([s.text for s in msguser])"
   ]
  },
  {
   "cell_type": "markdown",
   "metadata": {},
   "source": [
    "Recent messages from the authenticated user"
   ]
  },
  {
   "cell_type": "code",
   "execution_count": 35,
   "metadata": {},
   "outputs": [
    {
     "name": "stdout",
     "output_type": "stream",
     "text": [
      "['@fccoelho Parece que foi revogado... seria absurdo!', 'https://t.co/60gS89BY1Z #sif17 @avilarenata', '#SIF17 Digital Rights https://t.co/3Z3TLEewBZ', 'http://t.co/5l4lGVKiBG #FGV #emap', 'Olá Pessoal! Fiquem atentos à aula de Modelagem e Mineração de Dados... Hoje análises com Twitter!', 'Mais um curioso fenômeno dos nossos tempos: #LeakForJLaw Or maybe #LeakForPerverts ?', 'RT @mashable: 8 Brutally Honest Facebook Notifications That Need to Exist Now http://t.co/wwFQ1hut9x http://t.co/b2GjxcNb6D', '#Cite10CoisasQueSuaMãeFala come alguma coisa antes para não chegar na festa esfomeado', 'Implicações do Big Data para as questões de privacidade: http://t.co/WDJwxpOr9d', 'Resultados da seleção do Mestrado em Modelagem Matemática da Informação - turma 2013 saem nesta sexta, 08/02. #FGV #EMAp', 'RT @PyPLN: We just released the very first version (0.1.0) of pypln.api -- a Python library to programatically access @PyPLN Web! http:/ ...', \"Men's Fitness UK by Dennis Publishing Ltd http://t.co/y8YZBBeP\", \"I'm at Capes (Brasília, DF) w/ 2 others http://t.co/QiukVJqW\", \"I'm at Capes (Brasília, DF) http://t.co/OfRoPS0y\", '@israelst na verdade, as que SABEM lidar com informacoes incompletas...', \"I'm at Grotemarkt http://t.co/Ber45XPB\", \"I'm at ULB - Research Department Technology Transfer Office http://t.co/DA9S0o7Q\", 'RT @RicardoRBarbosa: Coming Next: Doctors Prescribing Apps to Patients http://t.co/RhhUyOf4', 'RT @LinuxForYou: Microsoft Was Forced To Go The Open Source Way In Office 2013! http://t.co/jXblYN8l', '@joyfigueiro chique! Que bom...']\n"
     ]
    }
   ],
   "source": [
    "msguser = api.GetUserTimeline('29959702')\n",
    "print([s.text for s in msguser])"
   ]
  },
  {
   "cell_type": "markdown",
   "metadata": {},
   "source": [
    "After authentication, more options are available"
   ]
  },
  {
   "cell_type": "code",
   "execution_count": 36,
   "metadata": {},
   "outputs": [
    {
     "name": "stdout",
     "output_type": "stream",
     "text": [
      "['Star Control', '@Team9Spokes', 'programador andarilho', 'Ricky Gervais', 'Thomas Power', 'Randy Gage', 'Rosiene Dilly', 'The Web Foundation', 'Appus', 'Renata Avila', 'Golala Ruhani', 'Sandi Chimpala', 'Malavika Jayaram', 'Sthlm Internet Forum', 'NetApp Deutschland', 'Lu.CaaS', 'Carla Codeço Coelho', 'Overleaf', 'Cláudio Berrondo', 'Flávio Amieiro', 'Pablo Cerdeira', 'Cut the Rope', 'Machinalis', 'MiningTheSocialWeb', 'CNET News', 'ReadWrite', 'TNW', 'CNET', 'The Verge', 'Engadget', 'Lifehacker', 'Gizmodo', 'WIRED', 'TechCrunch', 'Ian Ozsvald', 'CNPq', 'Claudio Gnoli', 'strongsteam', 'Diana Maynard', 'Joyce Figueiró', 'Álvaro Justen', 'PyPLN', 'Open Source For You', 'TechRepublic', 'ZDNet', 'Twitter API', 'Udacity', 'Clarissa', 'Roberto R.S.Sobrinho', 'Luana Sales', 'Sensacionalista', 'André Branco', 'CMA', 'Asla Sá', 'Renata Teixeira', 'FGV EMAp', 'FGV', 'FGV Marketing', 'FGV CPDOC', 'Globant Brasil', 'Sheffield NLP', 'Débora Pereira', 'André Andrade', \"O'Reilly Radar\", 'Virgilio Almeida', 'Dalai Lama', 'Alexandre Colucci', 'Benildes Maculan', 'Mashable', 'alfredo hirsch', 'Fernando S Parreiras', 'NYTimes Tech', 'MiniCursos', 'Googleverse', 'Hootsuite', 'G1 - Concursos', 'Ivana', 'Dina Marques', 'João Batista', 'W3C Brasil', 'ASIS&T', 'PPCGI UFPB', 'Ursula Blattmann', 'Google', 'Maria Inês Tomaél', 'Nanci Oddone', 'Pierre Levy', 'PPGCI - Unesp', 'Silvana G. Vidotti', 'John C. Dvorak', 'Rob Enderle', 'Word Spy', 'TIME', 'CNN Breaking News', 'Guardian Data', 'Lamar', 'Carlos A Figueiredo', 'New Scientist', 'Wagner Meira Jr', 'Nathan Yau', 'Marcelo Martins', 'Kalina Bontcheva', 'Ana Souza', 'Instituto Novo Ser', \"Tim O'Reilly\", 'Guardian Tech', 'WebHolic!', 'Projeto TrackSource', 'DEF CON preparing for DEF CON 27', 'Chronic Developments', 'Grupo ReCOL', 'Finep', 'Ricardo Caspirro', 't3', 'michelle Bouhid', 'Wefollow', 'Leonardo Souza', 'Luiz Maia', 'Aldo de A. Barreto', 'Adriana Bogliolo', 'TheFreeDictionary', 'Niraj Aswani', 'hamish cunningham', 'Stasa Vujicic', 'Guilherme A. Dias', 'AGNALDO', 'Camila', 'Joana Ziller', 'Saldanha', 'Hagar Espanha Gomes', 'Mozart Lima', 'Elaine Mosconi', 'Renata Vieira', '(((Howard Rheingold)))', 'Eduardo Chaves', 'Carlos Nepomuceno', 'GATE (gate.ac.uk)', 'Jaime Bastos', 'GO Outdoors', 'Joyce Prado', 'marcello bax', 'Helio', 'Maria Manuel Borges', 'Flávio Codeço Coelho', 'Ricardo R. Barbosa']\n"
     ]
    }
   ],
   "source": [
    "userfollow = api.GetFriends()\n",
    "print([u.name for u in userfollow])"
   ]
  },
  {
   "cell_type": "markdown",
   "metadata": {},
   "source": [
    "Searching for a term in tweets"
   ]
  },
  {
   "cell_type": "code",
   "execution_count": 37,
   "metadata": {},
   "outputs": [],
   "source": [
    "def search_for_term(termo, pages, results):\n",
    "    '''Search and return tweets on a subject (5 pages of 100 results each)\n",
    "    Save results in a file defined in \"pathtweetsfile\" '''\n",
    "    search_results = []\n",
    "    tweets = []\n",
    "    tweets_txt = []\n",
    "    tweets_words = []\n",
    "    names = []\n",
    "    last = api.GetSearch(term=termo, count=1)\n",
    "    search_results.append(last)\n",
    "    list_ids = []\n",
    "    list_ids.append(last[0].id)\n",
    "    for i in range(pages):\n",
    "        id_last = last[0].id\n",
    "        new_tweets = api.GetSearch(term=termo, count=results, max_id=min(list_ids))\n",
    "        for i in range(len(new_tweets)):\n",
    "            list_ids.append(new_tweets[i].id)\n",
    "        search_results.append(new_tweets)\n",
    "    for i in range(len(search_results)):\n",
    "        for j in range(len(search_results[i])):\n",
    "            tweets.append(search_results[i][j])\n",
    "    tweets_txt += [tweet.text.split(u' ') for tweet in tweets]\n",
    "    for i in range(len(tweets)):\n",
    "        tweets_words += [word.lower().strip(u':@&$!?') for word in tweets_txt[i]]\n",
    "    for i in range(len(tweets)): \n",
    "        names += [word.strip(u':@&$!?') for word in tweets_txt[i] if word.istitle() and len(word) > 2]\n",
    "    with open(pathtweetsfile,'w') as out:\n",
    "        for tweet in tweets_txt:\n",
    "            out.write(u'\\n{}'.format(tweet))\n",
    "    return tweets, tweets_txt, tweets_words, names\n",
    "\n",
    "def lexical_diversity(text):\n",
    "    return len(text) / len(set(text))"
   ]
  },
  {
   "cell_type": "code",
   "execution_count": 38,
   "metadata": {},
   "outputs": [
    {
     "name": "stdout",
     "output_type": "stream",
     "text": [
      "['Le traitre en chef au pouvoir va s’occuper d’un Français inculpé pour djihâdisme au Maroc, à la demande de sa mère.… https://t.co/rCFYQtheKn', 'Je comprends la compassion de #Macron envers la maman de #Thomas emprisonné au Maroc Mais aucun geste aucun signe d… https://t.co/OrcEEQap2F', '«Les mères de Français assassinés sont moins bien considérées que les mères de tueurs par #Macron»: le Net s’enflam… https://t.co/5c7eXTkn1j', \"RT @garbo68: Macron n'a pas répondu à l'appel désespéré de la maman d'Adrien , mais reçoit celle d'un terroriste incarcéré au Maroc https:/…\", 'RT @ORageetDesepoir: Finies les vacances \"studieuses\" 🚨Les TUCHE s\\'amusent !!! Mémé  incapable de nager ... se fait balader en jet-ski, ens…', \"@PhilippeSANTET @fhollande @EmmanuelMacron @MLePen_officiel Et bien on continue de tourner en rond. Visiblement Macron, c'est mieux...\", \"RT @rsistons: Echec de la politique de #Macron \\nà comparer avec la réussite au #Portugal (contre la politique d'austérité)\\n\\nhttps://t.co/EN…\", \"RT @PoussiG: NON ? 😳\\nCette prise de contrôle de l'état est de plus en plus effarante. C'est du Erdogan dans les œuvres : Emmanuel Macron se…\", 'RT @tropical_boy: #AffaireMacronBenalla #Macron #CNIL #EUDisinfoLab \\n\\n▶️ ARCHIVE de MAI 2017\\nOui ! #NicolasVanderbiest est un garçon sensib…', \"@julian_vanden @EmmanuelMacron Qu'est-ce qu'il est fort le Macron\", 'RT @tropical_boy: #AffaireMacronBenalla #Macron #CNIL #EUDisinfoLab \\n\\n🛑SVP : SANS TRAITEMENT DE CETTE AFFAIRE DE \"FICHAGE POLITIQUE\" DANS U…', 'RT @PEREIRADAROCHAJ: Emmanuel Macron a-t-il commis une faute diplomatique à Amiens ? | Planet https://t.co/oCO7LwIUQ5 via @Planet_fr', 'RT @LorenzZorro: Bon, on va mettre les choses au clair... Qui est le meilleur président ?\\n\\n🔃 RT pour le Camembert\\n♥️ FAV pour Macron https:…', \"RT @gregoryroose: Macron reçoit la mère d'un potentiel terroriste français detenu au Maroc.  \\n\\n🛑Pire, la presse nous cache que ce #ThomasGa…\", \"t'as vu l'immense manifestation de soutien à Macron ?\\nj'en reviens pas... https://t.co/sf9hBlwCPQ\"]\n"
     ]
    }
   ],
   "source": [
    "twitter_query = u'macron'\n",
    "\n",
    "search = api.GetSearch(twitter_query)\n",
    "print([s.text for s in search])"
   ]
  },
  {
   "cell_type": "markdown",
   "metadata": {},
   "source": [
    "Using our customized function that retrieves 5 x 100 tweets"
   ]
  },
  {
   "cell_type": "code",
   "execution_count": 39,
   "metadata": {},
   "outputs": [
    {
     "name": "stdout",
     "output_type": "stream",
     "text": [
      "Word count: 1003\n",
      "Repertoire: 480\n",
      "Lexical diversity: 2.089583333333333\n"
     ]
    }
   ],
   "source": [
    "tweets, tweets_txt, tweets_words, names = search_for_term(twitter_query,5,10)\n",
    "    \n",
    "print('Word count: {}'.format(len(tweets_words)))\n",
    "print('Repertoire: {}'.format(len(set(tweets_words))))\n",
    "print('Lexical diversity: {}'.format(lexical_diversity(tweets_words)))"
   ]
  },
  {
   "cell_type": "code",
   "execution_count": 40,
   "metadata": {},
   "outputs": [
    {
     "data": {
      "image/png": "[encoded data removed]",
      "text/plain": [
       "<Figure size 432x288 with 1 Axes>"
      ]
     },
     "metadata": {},
     "output_type": "display_data"
    },
    {
     "data": {
      "image/png": "[encoded data removed]",
      "text/plain": [
       "<Figure size 432x288 with 1 Axes>"
      ]
     },
     "metadata": {},
     "output_type": "display_data"
    }
   ],
   "source": [
    "freq_dist = nltk.FreqDist(tweets_words)\n",
    "freq_dist.plot(40)\n",
    "freq_dist.plot(40, cumulative = True)"
   ]
  },
  {
   "cell_type": "code",
   "execution_count": 41,
   "metadata": {},
   "outputs": [
    {
     "name": "stdout",
     "output_type": "stream",
     "text": [
      "[('rt', 44), ('de', 32), ('les', 27), ('le', 26), ('pour', 24), ('la', 20), ('macron', 20), ('et', 16), ('en', 13), ('au', 12), ('#macron', 12), ('', 10), ('on', 10), ('est', 10), ('va', 8), ('à', 8), ('qui', 8), ('sur', 8), ('choses', 7), ('que', 7), ('un', 7), ('français', 6), ('président', 6), ('du', 5), ('pas', 5), ('lorenzzorro', 5), ('bon,', 5), ('mettre', 5), ('clair...', 5), ('meilleur', 5), ('\\n\\n🔃', 5), ('camembert\\n♥️', 5), ('fav', 5), ('https:…', 5), ('son', 5), ('même', 5), (\"qu'une\", 4), ('avec', 4), ('brigitte', 4), ('benalla', 4), ('si', 4), ('puis', 4), ('une', 4), ('d’un', 3), ('contre', 3), ('ils', 3), ('vous', 3), ('via', 3), ('cette', 3), (\"c'est\", 3), ('ont', 3), ('a', 3), ('ce', 3), ('par', 3), ('des', 3), ('mère', 3), ('ses', 3), ('ne', 3), ('niet', 3), ('aan', 3), ('traitre', 2), ('chef', 2), ('pouvoir', 2), ('s’occuper', 2), ('inculpé', 2), ('djihâdisme', 2), ('maroc,', 2), ('demande', 2), ('sa', 2), ('mère.…', 2), ('https://t.co/rcfyqthekn', 2), ('gaga5012', 2), ('députés', 2), ('#lrem', 2), ('votent', 2), (\"l'inderdiction\", 2), ('glyphosate', 2), ('mai,', 2), ('août', 2), ('se', 2), ('réjouissent', 2), ('décision', 2), ('justice', 2), (\"l'…\", 2), ('jugent', 2), ('fois', 2), ('_stalker_69_', 2), ('alexandre', 2), ('relation', 2), (\"qu'ils\", 2), ('tenté', 2), ('nous', 2), ('cacher...', 2), ('https://t.co/9jjgjfczrm', 2), ('the', 2), ('affaire', 2), ('adrenaline1001', 2), ('affaires', 2), ('s’enchaînent', 2), ('amp;', 2), ('vont', 2), ('plomber', 2), ('quinquennat\\nd’autres', 2), ('suivront🔥\\nl’affaire', 2), ('#benalla,', 2), ('l’affaire…', 2), ('emmanuel', 2), ('sont', 2), ('mères', 2), ('moins', 2), ('bien', 2), ('france', 2), ('voilà', 2), ('plus', 2), ('depuis', 2), ('artistesfrance', 2), ('#pétition', 2), ('procureur', 2), ('enquête', 2), ('soit', 2), ('ouverte', 2), ('scandales', 2), ('-', 2), ('signez', 2), ('pétition\\xa0', 2), ('https://t.co/d…', 2), ('reçoit', 2), ('terrorisme', 2), ('maroc', 2), ('faire', 2), ('edennequin', 2), ('scandaleux', 2), ('ponctionne', 2), ('retraités,', 2), ('diminue', 2), ('aides', 2), ('aux', 2), ('étudiants,', 2), ('supprime', 2), ('emplois', 2), ('aidés', 2), ('mais', 2), ('laisse', 2), ('c…', 2), ('60bl', 2), ('\"et', 2), (\"qu'il\", 2), ('suffisait', 2), ('frapper', 2), ('table', 2), ('avancent.\"', 2), ('gt;', 2), ('il', 2), ('rigolo…', 2), ('https://t.co/ikxvgj8ufb', 2), ('lrem', 2), ('m…', 2), ('tôle,', 2), ('brigitte_bardot', 1), ('après', 1), ('votre', 1), ('rencontre', 1), ('étiez', 1), ('\"pleine', 1), ('d\\'espoir\".', 1), (\"n'avez-vous\", 1), ('honte', 1), (\"d'être\", 1), ('aussi…', 1), ('https://t.co/xs9pjaom7w', 1), ('fanchon2222', 1), ('sondages\\xa0', 1), ('touche', 1), ('fond.', 1), ('malhonnête.', 1), ('https://t.co/sk9pitcyzu', 1), ('lebonsensyt', 1), ('hollande', 1), ('vole', 1), ('secours', 1), ('seconde', 1), ('fois.', 1), ('première', 1), (\"c'était\", 1), ('détruisant', 1), ('ff.', 1), ('pou…', 1), ('https://t.co/o5h1cklurj', 1), ('takes', 1), ('to', 1), ('sea', 1), ('during', 1), ('holiday', 1), ('côte', 1), (\"d'azur\", 1), ('https://t.co/ju0l4zgqe0', 1), ('mailonline', 1), ('anticor_org', 1), ('#kohler.', 1), ('n’avez', 1), ('rien', 1), ('suivi', 1), ('polémique', 1), ('bras', 1), ('droit', 1), ('d’emmanuel', 1), ('macron…', 1), ('https://t.co/4pbnrsmcvd', 1), ('photos.', 1), ('brégançon,', 1), ('nemo,', 1), ('chien', 1), ('macron,', 1), ('assure', 1), ('show', 1), ('https://t.co/xnpgjnozjk', 1), ('coraliedelaume', 1), ('parce', 1), ('nos', 1), ('rgééééé', 1), ('\\n\\nhttps://t.co/dxxw61mxyw', 1), ('sputnik_fr', 1), ('«les', 1), ('assassinés', 1), ('considérées', 1), ('tueurs', 1), ('#macron»', 1), ('net', 1), ('s’enflamme', 1), ('lorsq…', 1), ('doltostoi', 1), ('#hulot', 1), ('menace', 1), ('démissionner', 1), (\"n'est\", 1), ('#fakenews', 1), ('#running', 1), ('#joke.', 1), ('alex_patriotefn', 1), ('https://t.co/h24avvsbn5\\n\\nle', 1), ('13', 1), ('avril', 1), ('2018', 1), ('trahi', 1), (\"l'attaque\", 1), ('illégale', 1), ('syrie,', 1), ('ordre', 1), ('l…', 1), ('ludodelaherche', 1), ('...', 1), ('\\n\\nde', 1), ('1ere', 1), ('décennies', 1), ('salaires', 1), ('augmente', 1), ('l’inflation', 1), ('\\n\\nmacron', 1), ('est…', 1), ('lafrancelibretv', 1), ('🎙on', 1), ('apprend', 1), ('chems', 1), ('akrouf,', 1), ('\"l\\'ex-collègue\"', 1), (\"d'#alexandrebenalla\", 1), ('défilait', 1), ('plateaux', 1), ('tv', 1), ('défendre', 1), ('pr…', 1), ('nosmedias_fr', 1), ('condamné', 1), ('https://t.co/h7hpoyomc8', 1), ('lvslmedia', 1), ('conséquence', 1), ('directe', 1), ('politiques', 1), (\"d'austérité\", 1), ('flexibilisation', 1), ('marché', 1), ('travail', 1), ('travers', 1), ('loi', 1), ('el', 1), ('khomri', 1), ('les…', 1), ('encore', 1), ('casserole', 1), ('gouvernement.', 1), ('pourtant', 1), ('continuent', 1), ('morale', 1), ('mépriser', 1), ('qu…', 1), ('https://t.co/jkq57kc2cv', 1), ('david_vanh', 1), ('grosses', 1), ('indications', 1), ('corruption', 1), ('nicolas', 1), ('#hulot...\\nalexis', 1), ('#kohler,', 1), ('richard', 1), ('ferrand,', 1), ('benalla,', 1), ('macron...\\net', 1), ('j’en', 1), ('passe.…', 1), ('mselon3', 1), ('considéré', 1), ('comme', 1), ('peu', 1), ('vertueux\\xa0!\\xa0seuls', 1), ('39%', 1), ('«\\xa0honnête\\xa0»\\xa0(-9', 1), ('points', 1), ('avril\\xa0!)', 1), ('et\\xa0seuls', 1), ('38%…', 1), ('gerarddupin', 1), ('bizarre', 1), (\"n'entend\", 1), ('beaucoup', 1), ('#makeourplanetgreatagain', 1), ('..', 1), ('#glyphosate\\xa0', 1), ('couac', 1), ('nommé', 1), ('stéphane', 1), ('#travert', 1), ('h…', 1), ('rachidtemal', 1), ('doit', 1), ('permettre', 1), ('d’être', 1), ('hauteur', 1), ('histoire', 1), ('valeurs', 1), ('ouvrant', 1), ('port', 1), ('f…', 1), ('sniperdedroite', 1), ('bruno', 1), ('#lemaire', 1), ('dans', 1), ('mimétisme', 1), ('mépris,', 1), ('impossibilité', 1), ('dialoguer,', 1), ('incompétence', 1), ('dev…', 1), ('kimjongunique', 1), (\"d'une\", 1), ('crapule', 1), ('accusée', 1), ('snobe', 1), (\"d'#adrienperez.\", 1), ('fumier,', 1), ('https://…', 1), ('boblecentriste', 1), ('mathilde_sd', 1), ('oh....', 1), ('rejouent', 1), ('temps', 1), (\"l'indochine...\\nje\", 1), ('leur', 1), ('propose', 1), (\"d'aller\", 1), ('sonde…', 1), ('https://t.co/rwc7hs3jpp', 1), ('bassinrebel', 1), ('‼️bien', 1), ('d’accord.', 1), ('#adrienperez', 1), ('oublier', 1), ('rappeler', 1), ('l’a', 1), ('ignoré', 1), ('😩😡\\U0001f92e', 1), ('https://t.co/rjuj372g6o', 1), ('socratej', 1), ('pseudo', 1), ('complot', 1), ('russe', 1), ('théorème', 1), ('pasqua', 1), ('repris', 1), ('#affairebenalla', 1), ('\\n«quand', 1), ('emmerdé', 1), ('affaire,', 1), ('il…', 1), ('système', 1), ('mis', 1), ('examen', 1), ('https://t.co/pnbefrtyro', 1), ('causeur', 1), ('proftoujours', 1), (\"l'avez-vous\", 1), ('remarqué', 1), ('militants', 1), ('sympathisants', 1), ('mettent', 1), ('désormais', 1), ('\"bleu-blanc-rouge\"', 1), (\"partout.\\nl'objectif\", 1), ('en…', 1), ('cindekel', 1), ('dat', 1), ('ons', 1), ('land', 1), ('op', 1), ('den', 1), ('duur', 1), ('naar', 1), ('verdoemenis', 1), ('gaat', 1), ('ligt', 1), ('moslims,', 1), ('afrikanen,', 1), ('welke', 1), ('asielzoeker', 1), ('ooit.…', 1), ('lalobarose', 1), ('résume', 1), ('début', 1), ('mandat', 1), ('financement', 1), ('campagne', 1), ('illégal', 1), ('#ristournes', 1), ('#penicaud', 1), ('#lasvegas,', 1), ('#bayrou', 1), ('#emploi…', 1), ('vosges_epinal', 1), ('je', 1), ('mets', 1), ('ici', 1), ('vidéo', 1), ('technique', 1), ('manipulation', 1), ('\\nil', 1), ('dit', 1), ('tout', 1), ('contraire', 1), ('temps.', 1), ('\\ndu', 1), ('pur', 1), ('motivée', 1), ('tuer', 1), ('monde', 1), ('—', 1), ('non,', 1), (\"j'ai\", 1), ('envie', 1), ('révolution', 1), ('anti-macron,', 1), ('chuis', 1), ('pacifiste', 1), ('ou…', 1), ('https://t.co/q7j19wkyx6', 1), ('cgttuifrance', 1), ('#jesoutienslescheminots\\nle', 1), ('gouvernement', 1), ('guillaume', 1), ('pepy', 1), ('organisent', 1), ('représailles', 1), ('cheminots', 1), ('grévist…', 1), ('weatherboy_fr', 1), ('ccastaner', 1), ('essayait', 1), ('\\n➡', 1), ('croquette\\n➡', 1), ('kohler', 1), ('deux', 1), ('croquettes\\n➡', 1)]\n"
     ]
    }
   ],
   "source": [
    "#print('10 most frequent words')\n",
    "print(freq_dist.most_common())"
   ]
  },
  {
   "cell_type": "code",
   "execution_count": 42,
   "metadata": {},
   "outputs": [
    {
     "name": "stdout",
     "output_type": "stream",
     "text": [
      "Sorted list of words\n",
      "['', '\\n\\nde', '\\n\\nhttps://t.co/dxxw61mxyw', '\\n\\nmacron', '\\n\\n🔃', '\\ndu', '\\nil', '\\n«quand', '\\n➡', '\"bleu-blanc-rouge\"', '\"et', '\"l\\'ex-collègue\"', '\"pleine', '#adrienperez', '#affairebenalla', '#bayrou', '#benalla,', '#emploi…', '#fakenews', '#glyphosate\\xa0', '#hulot', '#hulot...\\nalexis', '#jesoutienslescheminots\\nle', '#joke.', '#kohler,', '#kohler.', '#lasvegas,', '#lemaire', '#lrem', '#macron', '#macron»', '#makeourplanetgreatagain', '#penicaud', '#pétition', '#ristournes', '#running', '#travert', '-', '..', '...', '13', '1ere', '2018', '38%…', '39%', '60bl', '_stalker_69_', 'a', 'aan', 'accusée', 'adrenaline1001', 'affaire', 'affaire,', 'affaires', 'afrikanen,', 'aides', 'aidés', 'akrouf,', 'alex_patriotefn', 'alexandre', 'amp;', 'anti-macron,', 'anticor_org', 'août', 'apprend', 'après', 'artistesfrance', 'asielzoeker', 'assassinés', 'assure', 'au', 'augmente', 'aussi…', 'aux', 'avancent.\"', 'avec', 'avril', 'avril\\xa0!)', 'bassinrebel', 'beaucoup', 'benalla', 'benalla,', 'bien', 'bizarre', 'boblecentriste', 'bon,', 'bras', 'brigitte', 'brigitte_bardot', 'bruno', 'brégançon,', \"c'est\", \"c'était\", 'cacher...', 'camembert\\n♥️', 'campagne', 'casserole', 'causeur', 'ccastaner', 'ce', 'cette', 'cgttuifrance', 'chef', 'cheminots', 'chems', 'chien', 'choses', 'chuis', 'cindekel', 'clair...', 'comme', 'complot', 'condamné', 'considéré', 'considérées', 'conséquence', 'continuent', 'contraire', 'contre', 'coraliedelaume', 'corruption', 'couac', 'crapule', 'croquette\\n➡', 'croquettes\\n➡', 'côte', 'c…', \"d'#adrienperez.\", \"d'#alexandrebenalla\", \"d'aller\", \"d'austérité\", \"d'azur\", 'd\\'espoir\".', \"d'une\", \"d'être\", 'dans', 'dat', 'david_vanh', 'de', 'demande', 'den', 'depuis', 'des', 'deux', 'dev…', 'dialoguer,', 'diminue', 'directe', 'dit', 'djihâdisme', 'doit', 'doltostoi', 'droit', 'du', 'during', 'duur', 'début', 'décennies', 'décision', 'défendre', 'défilait', 'démissionner', 'députés', 'désormais', 'détruisant', 'd’accord.', 'd’emmanuel', 'd’un', 'd’être', 'edennequin', 'el', 'emmanuel', 'emmerdé', 'emplois', 'en', 'encore', 'enquête', 'envie', 'en…', 'essayait', 'est', 'est…', 'et', 'et\\xa0seuls', 'examen', 'faire', 'fanchon2222', 'fav', 'ferrand,', 'ff.', 'financement', 'flexibilisation', 'fois', 'fois.', 'fond.', 'france', 'français', 'frapper', 'fumier,', 'f…', 'gaat', 'gaga5012', 'gerarddupin', 'glyphosate', 'gouvernement', 'gouvernement.', 'grosses', 'grévist…', 'gt;', 'guillaume', 'hauteur', 'histoire', 'holiday', 'hollande', 'honte', 'https://t.co/4pbnrsmcvd', 'https://t.co/9jjgjfczrm', 'https://t.co/d…', 'https://t.co/h24avvsbn5\\n\\nle', 'https://t.co/h7hpoyomc8', 'https://t.co/ikxvgj8ufb', 'https://t.co/jkq57kc2cv', 'https://t.co/ju0l4zgqe0', 'https://t.co/o5h1cklurj', 'https://t.co/pnbefrtyro', 'https://t.co/q7j19wkyx6', 'https://t.co/rcfyqthekn', 'https://t.co/rjuj372g6o', 'https://t.co/rwc7hs3jpp', 'https://t.co/sk9pitcyzu', 'https://t.co/xnpgjnozjk', 'https://t.co/xs9pjaom7w', 'https://…', 'https:…', 'h…', 'ici', 'ignoré', 'il', 'illégal', 'illégale', 'ils', 'il…', 'impossibilité', 'incompétence', 'inculpé', 'indications', \"j'ai\", 'je', 'jugent', 'justice', 'j’en', 'khomri', 'kimjongunique', 'kohler', \"l'attaque\", \"l'avez-vous\", \"l'inderdiction\", \"l'indochine...\\nje\", \"l'…\", 'la', 'lafrancelibretv', 'laisse', 'lalobarose', 'land', 'le', 'lebonsensyt', 'les', 'les…', 'leur', 'ligt', 'loi', 'lorenzzorro', 'lorsq…', 'lrem', 'ludodelaherche', 'lvslmedia', 'l’a', 'l’affaire…', 'l’inflation', 'l…', 'macron', 'macron,', 'macron...\\net', 'macron…', 'mai,', 'mailonline', 'mais', 'malhonnête.', 'mandat', 'manipulation', 'marché', 'maroc', 'maroc,', 'mathilde_sd', 'meilleur', 'menace', 'mets', 'mettent', 'mettre', 'militants', 'mimétisme', 'mis', 'moins', 'monde', 'morale', 'moslims,', 'motivée', 'mselon3', 'mère', 'mère.…', 'mères', 'mépris,', 'mépriser', 'même', 'm…', \"n'avez-vous\", \"n'entend\", \"n'est\", 'naar', 'ne', 'nemo,', 'net', 'nicolas', 'niet', 'nommé', 'non,', 'nos', 'nosmedias_fr', 'nous', 'n’avez', 'oh....', 'on', 'ons', 'ont', 'ooit.…', 'op', 'ordre', 'organisent', 'oublier', 'ouverte', 'ouvrant', 'ou…', 'pacifiste', 'par', 'parce', \"partout.\\nl'objectif\", 'pas', 'pasqua', 'passe.…', 'pepy', 'permettre', 'peu', 'photos.', 'plateaux', 'plomber', 'plus', 'points', 'politiques', 'polémique', 'ponctionne', 'port', 'pour', 'pourtant', 'pouvoir', 'pou…', 'première', 'procureur', 'proftoujours', 'propose', 'président', 'pr…', 'pseudo', 'puis', 'pur', 'pétition\\xa0', \"qu'il\", \"qu'ils\", \"qu'une\", 'que', 'qui', 'quinquennat\\nd’autres', 'qu…', 'rachidtemal', 'rappeler', 'rejouent', 'relation', 'remarqué', 'rencontre', 'repris', 'représailles', 'retraités,', 'reçoit', 'rgééééé', 'richard', 'rien', 'rigolo…', 'rt', 'russe', 'réjouissent', 'résume', 'révolution', 'sa', 'salaires', 'scandales', 'scandaleux', 'se', 'sea', 'seconde', 'secours', 'ses', 'show', 'si', 'signez', 'sniperdedroite', 'snobe', 'socratej', 'soit', 'son', 'sondages\\xa0', 'sonde…', 'sont', 'sputnik_fr', 'stéphane', 'suffisait', 'suivi', 'suivront🔥\\nl’affaire', 'supprime', 'sur', 'sympathisants', 'syrie,', 'système', 's’enchaînent', 's’enflamme', 's’occuper', 'table', 'takes', 'technique', 'temps', 'temps.', 'tenté', 'terrorisme', 'the', 'théorème', 'to', 'touche', 'tout', 'trahi', 'traitre', 'travail', 'travers', 'tuer', 'tueurs', 'tv', 'tôle,', 'un', 'une', 'va', 'valeurs', 'verdoemenis', 'vertueux\\xa0!\\xa0seuls', 'via', 'vidéo', 'voilà', 'vole', 'vont', 'vosges_epinal', 'votent', 'votre', 'vous', 'weatherboy_fr', 'welke', '«les', '«\\xa0honnête\\xa0»\\xa0(-9', 'à', 'étiez', 'étudiants,', '—', '‼️bien', '🎙on', '😩😡\\U0001f92e']\n"
     ]
    }
   ],
   "source": [
    "print('Sorted list of words')\n",
    "print(sorted(set(tweets_words)))"
   ]
  },
  {
   "cell_type": "markdown",
   "metadata": {},
   "source": [
    "Same as before, without stopwords. See variable \"ignorewords\""
   ]
  },
  {
   "cell_type": "code",
   "execution_count": 43,
   "metadata": {},
   "outputs": [
    {
     "data": {
      "image/png": "[encoded data removed]",
      "text/plain": [
       "<Figure size 432x288 with 1 Axes>"
      ]
     },
     "metadata": {},
     "output_type": "display_data"
    }
   ],
   "source": [
    "new_tweets_words = [word for word in tweets_words if word not in ignorewords]\n",
    "    \n",
    "freq_new = nltk.FreqDist(new_tweets_words)    \n",
    "freq_new.plot(50)"
   ]
  },
  {
   "cell_type": "code",
   "execution_count": 44,
   "metadata": {},
   "outputs": [
    {
     "data": {
      "image/png": "[encoded data removed]",
      "text/plain": [
       "<Figure size 432x288 with 1 Axes>"
      ]
     },
     "metadata": {},
     "output_type": "display_data"
    }
   ],
   "source": [
    "freq_new.plot(50, cumulative = True)"
   ]
  },
  {
   "cell_type": "code",
   "execution_count": 45,
   "metadata": {},
   "outputs": [
    {
     "name": "stdout",
     "output_type": "stream",
     "text": [
      "10 most frequent words\n",
      "[('les', 27), ('le', 26), ('pour', 24), ('la', 20), ('macron', 20), ('et', 16), ('en', 13), ('au', 12), ('#macron', 12), ('est', 10), ('va', 8), ('qui', 8), ('sur', 8), ('choses', 7), ('un', 7), ('français', 6), ('président', 6), ('du', 5), ('pas', 5), ('lorenzzorro', 5), ('bon,', 5), ('mettre', 5), ('clair...', 5), ('meilleur', 5), ('\\n\\n🔃', 5), ('camembert\\n♥️', 5), ('fav', 5), ('https:…', 5), ('son', 5), ('même', 5), (\"qu'une\", 4), ('avec', 4), ('brigitte', 4), ('benalla', 4), ('si', 4), ('puis', 4), ('une', 4), ('d’un', 3), ('contre', 3), ('ils', 3), ('vous', 3), ('via', 3), ('cette', 3), (\"c'est\", 3), ('ont', 3), ('ce', 3), ('par', 3), ('des', 3), ('mère', 3), ('ses', 3), ('ne', 3), ('niet', 3), ('aan', 3), ('traitre', 2), ('chef', 2), ('pouvoir', 2), ('s’occuper', 2), ('inculpé', 2), ('djihâdisme', 2), ('maroc,', 2), ('demande', 2), ('sa', 2), ('mère.…', 2), ('https://t.co/rcfyqthekn', 2), ('gaga5012', 2), ('députés', 2), ('#lrem', 2), ('votent', 2), (\"l'inderdiction\", 2), ('glyphosate', 2), ('mai,', 2), ('août', 2), ('réjouissent', 2), ('décision', 2), ('justice', 2), (\"l'…\", 2), ('jugent', 2), ('fois', 2), ('_stalker_69_', 2), ('alexandre', 2), ('relation', 2), (\"qu'ils\", 2), ('tenté', 2), ('nous', 2), ('cacher...', 2), ('https://t.co/9jjgjfczrm', 2), ('affaire', 2), ('adrenaline1001', 2), ('affaires', 2), ('s’enchaînent', 2), ('amp;', 2), ('vont', 2), ('plomber', 2), ('quinquennat\\nd’autres', 2), ('suivront🔥\\nl’affaire', 2), ('#benalla,', 2), ('l’affaire…', 2), ('emmanuel', 2), ('sont', 2), ('mères', 2), ('moins', 2), ('bien', 2), ('france', 2), ('voilà', 2), ('plus', 2), ('depuis', 2), ('artistesfrance', 2), ('#pétition', 2), ('procureur', 2), ('enquête', 2), ('soit', 2), ('ouverte', 2), ('scandales', 2), ('signez', 2), ('pétition\\xa0', 2), ('https://t.co/d…', 2), ('reçoit', 2), ('terrorisme', 2), ('maroc', 2), ('faire', 2), ('edennequin', 2), ('scandaleux', 2), ('ponctionne', 2), ('retraités,', 2), ('diminue', 2), ('aides', 2), ('aux', 2), ('étudiants,', 2), ('supprime', 2), ('emplois', 2), ('aidés', 2), ('laisse', 2), ('c…', 2), ('60bl', 2), ('\"et', 2), (\"qu'il\", 2), ('suffisait', 2), ('frapper', 2), ('table', 2), ('avancent.\"', 2), ('gt;', 2), ('il', 2), ('rigolo…', 2), ('https://t.co/ikxvgj8ufb', 2), ('lrem', 2), ('m…', 2), ('tôle,', 2), ('brigitte_bardot', 1), ('après', 1), ('votre', 1), ('rencontre', 1), ('étiez', 1), ('\"pleine', 1), ('d\\'espoir\".', 1), (\"n'avez-vous\", 1), ('honte', 1), (\"d'être\", 1), ('aussi…', 1), ('https://t.co/xs9pjaom7w', 1), ('fanchon2222', 1), ('sondages\\xa0', 1), ('touche', 1), ('fond.', 1), ('malhonnête.', 1), ('https://t.co/sk9pitcyzu', 1), ('lebonsensyt', 1), ('hollande', 1), ('vole', 1), ('secours', 1), ('seconde', 1), ('fois.', 1), ('première', 1), (\"c'était\", 1), ('détruisant', 1), ('ff.', 1), ('pou…', 1), ('https://t.co/o5h1cklurj', 1), ('takes', 1), ('sea', 1), ('holiday', 1), ('côte', 1), (\"d'azur\", 1), ('https://t.co/ju0l4zgqe0', 1), ('mailonline', 1), ('anticor_org', 1), ('#kohler.', 1), ('n’avez', 1), ('rien', 1), ('suivi', 1), ('polémique', 1), ('bras', 1), ('droit', 1), ('d’emmanuel', 1), ('macron…', 1), ('https://t.co/4pbnrsmcvd', 1), ('photos.', 1), ('brégançon,', 1), ('nemo,', 1), ('chien', 1), ('macron,', 1), ('assure', 1), ('show', 1), ('https://t.co/xnpgjnozjk', 1), ('coraliedelaume', 1), ('parce', 1), ('rgééééé', 1), ('\\n\\nhttps://t.co/dxxw61mxyw', 1), ('sputnik_fr', 1), ('«les', 1), ('assassinés', 1), ('considérées', 1), ('tueurs', 1), ('#macron»', 1), ('net', 1), ('s’enflamme', 1), ('lorsq…', 1), ('doltostoi', 1), ('#hulot', 1), ('menace', 1), ('démissionner', 1), (\"n'est\", 1), ('#fakenews', 1), ('#running', 1), ('#joke.', 1), ('alex_patriotefn', 1), ('https://t.co/h24avvsbn5\\n\\nle', 1), ('13', 1), ('avril', 1), ('2018', 1), ('trahi', 1), (\"l'attaque\", 1), ('illégale', 1), ('syrie,', 1), ('ordre', 1), ('l…', 1), ('ludodelaherche', 1), ('...', 1), ('\\n\\nde', 1), ('1ere', 1), ('décennies', 1), ('salaires', 1), ('augmente', 1), ('l’inflation', 1), ('\\n\\nmacron', 1), ('est…', 1), ('lafrancelibretv', 1), ('🎙on', 1), ('apprend', 1), ('chems', 1), ('akrouf,', 1), ('\"l\\'ex-collègue\"', 1), (\"d'#alexandrebenalla\", 1), ('défilait', 1), ('plateaux', 1), ('tv', 1), ('défendre', 1), ('pr…', 1), ('nosmedias_fr', 1), ('condamné', 1), ('https://t.co/h7hpoyomc8', 1), ('lvslmedia', 1), ('conséquence', 1), ('directe', 1), ('politiques', 1), (\"d'austérité\", 1), ('flexibilisation', 1), ('marché', 1), ('travail', 1), ('travers', 1), ('loi', 1), ('el', 1), ('khomri', 1), ('les…', 1), ('encore', 1), ('casserole', 1), ('gouvernement.', 1), ('pourtant', 1), ('continuent', 1), ('morale', 1), ('mépriser', 1), ('qu…', 1), ('https://t.co/jkq57kc2cv', 1), ('david_vanh', 1), ('grosses', 1), ('indications', 1), ('corruption', 1), ('nicolas', 1), ('#hulot...\\nalexis', 1), ('#kohler,', 1), ('richard', 1), ('ferrand,', 1), ('benalla,', 1), ('macron...\\net', 1), ('j’en', 1), ('passe.…', 1), ('mselon3', 1), ('considéré', 1), ('comme', 1), ('peu', 1), ('vertueux\\xa0!\\xa0seuls', 1), ('39%', 1), ('«\\xa0honnête\\xa0»\\xa0(-9', 1), ('points', 1), ('avril\\xa0!)', 1), ('et\\xa0seuls', 1), ('38%…', 1), ('gerarddupin', 1), ('bizarre', 1), (\"n'entend\", 1), ('beaucoup', 1), ('#makeourplanetgreatagain', 1), ('..', 1), ('#glyphosate\\xa0', 1), ('couac', 1), ('nommé', 1), ('stéphane', 1), ('#travert', 1), ('h…', 1), ('rachidtemal', 1), ('doit', 1), ('permettre', 1), ('d’être', 1), ('hauteur', 1), ('histoire', 1), ('valeurs', 1), ('ouvrant', 1), ('port', 1), ('f…', 1), ('sniperdedroite', 1), ('bruno', 1), ('#lemaire', 1), ('dans', 1), ('mimétisme', 1), ('mépris,', 1), ('impossibilité', 1), ('dialoguer,', 1), ('incompétence', 1), ('dev…', 1), ('kimjongunique', 1), (\"d'une\", 1), ('crapule', 1), ('accusée', 1), ('snobe', 1), (\"d'#adrienperez.\", 1), ('fumier,', 1), ('https://…', 1), ('boblecentriste', 1), ('mathilde_sd', 1), ('oh....', 1), ('rejouent', 1), ('temps', 1), (\"l'indochine...\\nje\", 1), ('leur', 1), ('propose', 1), (\"d'aller\", 1), ('sonde…', 1), ('https://t.co/rwc7hs3jpp', 1), ('bassinrebel', 1), ('‼️bien', 1), ('d’accord.', 1), ('#adrienperez', 1), ('oublier', 1), ('rappeler', 1), ('l’a', 1), ('ignoré', 1), ('😩😡\\U0001f92e', 1), ('https://t.co/rjuj372g6o', 1), ('socratej', 1), ('pseudo', 1), ('complot', 1), ('russe', 1), ('théorème', 1), ('pasqua', 1), ('repris', 1), ('#affairebenalla', 1), ('\\n«quand', 1), ('emmerdé', 1), ('affaire,', 1), ('il…', 1), ('système', 1), ('mis', 1), ('examen', 1), ('https://t.co/pnbefrtyro', 1), ('causeur', 1), ('proftoujours', 1), (\"l'avez-vous\", 1), ('remarqué', 1), ('militants', 1), ('sympathisants', 1), ('mettent', 1), ('désormais', 1), ('\"bleu-blanc-rouge\"', 1), (\"partout.\\nl'objectif\", 1), ('en…', 1), ('cindekel', 1), ('dat', 1), ('ons', 1), ('land', 1), ('op', 1), ('den', 1), ('duur', 1), ('naar', 1), ('verdoemenis', 1), ('gaat', 1), ('ligt', 1), ('moslims,', 1), ('afrikanen,', 1), ('welke', 1), ('asielzoeker', 1), ('ooit.…', 1), ('lalobarose', 1), ('résume', 1), ('début', 1), ('mandat', 1), ('financement', 1), ('campagne', 1), ('illégal', 1), ('#ristournes', 1), ('#penicaud', 1), ('#lasvegas,', 1), ('#bayrou', 1), ('#emploi…', 1), ('vosges_epinal', 1), ('je', 1), ('mets', 1), ('ici', 1), ('vidéo', 1), ('technique', 1), ('manipulation', 1), ('\\nil', 1), ('dit', 1), ('tout', 1), ('contraire', 1), ('temps.', 1), ('\\ndu', 1), ('pur', 1), ('motivée', 1), ('tuer', 1), ('monde', 1), ('—', 1), ('non,', 1), (\"j'ai\", 1), ('envie', 1), ('révolution', 1), ('anti-macron,', 1), ('chuis', 1), ('pacifiste', 1), ('ou…', 1), ('https://t.co/q7j19wkyx6', 1), ('cgttuifrance', 1), ('#jesoutienslescheminots\\nle', 1), ('gouvernement', 1), ('guillaume', 1), ('pepy', 1), ('organisent', 1), ('représailles', 1), ('cheminots', 1), ('grévist…', 1), ('weatherboy_fr', 1), ('ccastaner', 1), ('essayait', 1), ('\\n➡', 1), ('croquette\\n➡', 1), ('kohler', 1), ('deux', 1), ('croquettes\\n➡', 1)]\n"
     ]
    }
   ],
   "source": [
    "print('10 most frequent words')\n",
    "print(freq_new.most_common())"
   ]
  },
  {
   "cell_type": "code",
   "execution_count": 46,
   "metadata": {},
   "outputs": [
    {
     "name": "stdout",
     "output_type": "stream",
     "text": [
      "Sorted list of words\n",
      "['\\n\\nde', '\\n\\nhttps://t.co/dxxw61mxyw', '\\n\\nmacron', '\\n\\n🔃', '\\ndu', '\\nil', '\\n«quand', '\\n➡', '\"bleu-blanc-rouge\"', '\"et', '\"l\\'ex-collègue\"', '\"pleine', '#adrienperez', '#affairebenalla', '#bayrou', '#benalla,', '#emploi…', '#fakenews', '#glyphosate\\xa0', '#hulot', '#hulot...\\nalexis', '#jesoutienslescheminots\\nle', '#joke.', '#kohler,', '#kohler.', '#lasvegas,', '#lemaire', '#lrem', '#macron', '#macron»', '#makeourplanetgreatagain', '#penicaud', '#pétition', '#ristournes', '#running', '#travert', '..', '...', '13', '1ere', '2018', '38%…', '39%', '60bl', '_stalker_69_', 'aan', 'accusée', 'adrenaline1001', 'affaire', 'affaire,', 'affaires', 'afrikanen,', 'aides', 'aidés', 'akrouf,', 'alex_patriotefn', 'alexandre', 'amp;', 'anti-macron,', 'anticor_org', 'août', 'apprend', 'après', 'artistesfrance', 'asielzoeker', 'assassinés', 'assure', 'au', 'augmente', 'aussi…', 'aux', 'avancent.\"', 'avec', 'avril', 'avril\\xa0!)', 'bassinrebel', 'beaucoup', 'benalla', 'benalla,', 'bien', 'bizarre', 'boblecentriste', 'bon,', 'bras', 'brigitte', 'brigitte_bardot', 'bruno', 'brégançon,', \"c'est\", \"c'était\", 'cacher...', 'camembert\\n♥️', 'campagne', 'casserole', 'causeur', 'ccastaner', 'ce', 'cette', 'cgttuifrance', 'chef', 'cheminots', 'chems', 'chien', 'choses', 'chuis', 'cindekel', 'clair...', 'comme', 'complot', 'condamné', 'considéré', 'considérées', 'conséquence', 'continuent', 'contraire', 'contre', 'coraliedelaume', 'corruption', 'couac', 'crapule', 'croquette\\n➡', 'croquettes\\n➡', 'côte', 'c…', \"d'#adrienperez.\", \"d'#alexandrebenalla\", \"d'aller\", \"d'austérité\", \"d'azur\", 'd\\'espoir\".', \"d'une\", \"d'être\", 'dans', 'dat', 'david_vanh', 'demande', 'den', 'depuis', 'des', 'deux', 'dev…', 'dialoguer,', 'diminue', 'directe', 'dit', 'djihâdisme', 'doit', 'doltostoi', 'droit', 'du', 'duur', 'début', 'décennies', 'décision', 'défendre', 'défilait', 'démissionner', 'députés', 'désormais', 'détruisant', 'd’accord.', 'd’emmanuel', 'd’un', 'd’être', 'edennequin', 'el', 'emmanuel', 'emmerdé', 'emplois', 'en', 'encore', 'enquête', 'envie', 'en…', 'essayait', 'est', 'est…', 'et', 'et\\xa0seuls', 'examen', 'faire', 'fanchon2222', 'fav', 'ferrand,', 'ff.', 'financement', 'flexibilisation', 'fois', 'fois.', 'fond.', 'france', 'français', 'frapper', 'fumier,', 'f…', 'gaat', 'gaga5012', 'gerarddupin', 'glyphosate', 'gouvernement', 'gouvernement.', 'grosses', 'grévist…', 'gt;', 'guillaume', 'hauteur', 'histoire', 'holiday', 'hollande', 'honte', 'https://t.co/4pbnrsmcvd', 'https://t.co/9jjgjfczrm', 'https://t.co/d…', 'https://t.co/h24avvsbn5\\n\\nle', 'https://t.co/h7hpoyomc8', 'https://t.co/ikxvgj8ufb', 'https://t.co/jkq57kc2cv', 'https://t.co/ju0l4zgqe0', 'https://t.co/o5h1cklurj', 'https://t.co/pnbefrtyro', 'https://t.co/q7j19wkyx6', 'https://t.co/rcfyqthekn', 'https://t.co/rjuj372g6o', 'https://t.co/rwc7hs3jpp', 'https://t.co/sk9pitcyzu', 'https://t.co/xnpgjnozjk', 'https://t.co/xs9pjaom7w', 'https://…', 'https:…', 'h…', 'ici', 'ignoré', 'il', 'illégal', 'illégale', 'ils', 'il…', 'impossibilité', 'incompétence', 'inculpé', 'indications', \"j'ai\", 'je', 'jugent', 'justice', 'j’en', 'khomri', 'kimjongunique', 'kohler', \"l'attaque\", \"l'avez-vous\", \"l'inderdiction\", \"l'indochine...\\nje\", \"l'…\", 'la', 'lafrancelibretv', 'laisse', 'lalobarose', 'land', 'le', 'lebonsensyt', 'les', 'les…', 'leur', 'ligt', 'loi', 'lorenzzorro', 'lorsq…', 'lrem', 'ludodelaherche', 'lvslmedia', 'l’a', 'l’affaire…', 'l’inflation', 'l…', 'macron', 'macron,', 'macron...\\net', 'macron…', 'mai,', 'mailonline', 'malhonnête.', 'mandat', 'manipulation', 'marché', 'maroc', 'maroc,', 'mathilde_sd', 'meilleur', 'menace', 'mets', 'mettent', 'mettre', 'militants', 'mimétisme', 'mis', 'moins', 'monde', 'morale', 'moslims,', 'motivée', 'mselon3', 'mère', 'mère.…', 'mères', 'mépris,', 'mépriser', 'même', 'm…', \"n'avez-vous\", \"n'entend\", \"n'est\", 'naar', 'ne', 'nemo,', 'net', 'nicolas', 'niet', 'nommé', 'non,', 'nosmedias_fr', 'nous', 'n’avez', 'oh....', 'ons', 'ont', 'ooit.…', 'op', 'ordre', 'organisent', 'oublier', 'ouverte', 'ouvrant', 'ou…', 'pacifiste', 'par', 'parce', \"partout.\\nl'objectif\", 'pas', 'pasqua', 'passe.…', 'pepy', 'permettre', 'peu', 'photos.', 'plateaux', 'plomber', 'plus', 'points', 'politiques', 'polémique', 'ponctionne', 'port', 'pour', 'pourtant', 'pouvoir', 'pou…', 'première', 'procureur', 'proftoujours', 'propose', 'président', 'pr…', 'pseudo', 'puis', 'pur', 'pétition\\xa0', \"qu'il\", \"qu'ils\", \"qu'une\", 'qui', 'quinquennat\\nd’autres', 'qu…', 'rachidtemal', 'rappeler', 'rejouent', 'relation', 'remarqué', 'rencontre', 'repris', 'représailles', 'retraités,', 'reçoit', 'rgééééé', 'richard', 'rien', 'rigolo…', 'russe', 'réjouissent', 'résume', 'révolution', 'sa', 'salaires', 'scandales', 'scandaleux', 'sea', 'seconde', 'secours', 'ses', 'show', 'si', 'signez', 'sniperdedroite', 'snobe', 'socratej', 'soit', 'son', 'sondages\\xa0', 'sonde…', 'sont', 'sputnik_fr', 'stéphane', 'suffisait', 'suivi', 'suivront🔥\\nl’affaire', 'supprime', 'sur', 'sympathisants', 'syrie,', 'système', 's’enchaînent', 's’enflamme', 's’occuper', 'table', 'takes', 'technique', 'temps', 'temps.', 'tenté', 'terrorisme', 'théorème', 'touche', 'tout', 'trahi', 'traitre', 'travail', 'travers', 'tuer', 'tueurs', 'tv', 'tôle,', 'un', 'une', 'va', 'valeurs', 'verdoemenis', 'vertueux\\xa0!\\xa0seuls', 'via', 'vidéo', 'voilà', 'vole', 'vont', 'vosges_epinal', 'votent', 'votre', 'vous', 'weatherboy_fr', 'welke', '«les', '«\\xa0honnête\\xa0»\\xa0(-9', 'étiez', 'étudiants,', '—', '‼️bien', '🎙on', '😩😡\\U0001f92e']\n"
     ]
    }
   ],
   "source": [
    "print('Sorted list of words')\n",
    "print(sorted(set(new_tweets_words)))"
   ]
  },
  {
   "cell_type": "markdown",
   "metadata": {},
   "source": [
    "Counting specific words"
   ]
  },
  {
   "cell_type": "code",
   "execution_count": 47,
   "metadata": {},
   "outputs": [
    {
     "name": "stdout",
     "output_type": "stream",
     "text": [
      "0\n",
      "0\n",
      "0.0\n"
     ]
    }
   ],
   "source": [
    "print(new_tweets_words.count('poll'))\n",
    "print(freq_new['voters']) #same as before\n",
    "print(freq_new.freq('virginia')) #relative to the others"
   ]
  },
  {
   "cell_type": "markdown",
   "metadata": {},
   "source": [
    "Eliminating small words or words with specific sizes"
   ]
  },
  {
   "cell_type": "code",
   "execution_count": 48,
   "metadata": {},
   "outputs": [
    {
     "data": {
      "image/png": "[encoded data removed]",
      "text/plain": [
       "<Figure size 432x288 with 1 Axes>"
      ]
     },
     "metadata": {},
     "output_type": "display_data"
    }
   ],
   "source": [
    "bigger_tweets_words = [word for word in new_tweets_words if len(word) > 2]\n",
    "#mediumsized_tweets_words = [word for word in new_tweets_words if len(word) > 2 and len(word) < 9]\n",
    "freq_bigger = nltk.FreqDist(bigger_tweets_words)    \n",
    "freq_bigger.plot(30)"
   ]
  },
  {
   "cell_type": "markdown",
   "metadata": {},
   "source": [
    "Citation Analysis"
   ]
  },
  {
   "cell_type": "code",
   "execution_count": 49,
   "metadata": {},
   "outputs": [
    {
     "data": {
      "text/plain": [
       "dict_items([])"
      ]
     },
     "execution_count": 49,
     "metadata": {},
     "output_type": "execute_result"
    }
   ],
   "source": [
    "citacoes = [word for word in tweets_words if '@' in word]\n",
    "#citacoes = [word for word in tweets_words if word.startswith('@')]\n",
    "freq_citacoes = nltk.FreqDist(citacoes)\n",
    "freq_citacoes.items()"
   ]
  },
  {
   "cell_type": "code",
   "execution_count": 50,
   "metadata": {},
   "outputs": [
    {
     "data": {
      "image/png": "[encoded data removed]",
      "text/plain": [
       "<Figure size 432x288 with 1 Axes>"
      ]
     },
     "metadata": {},
     "output_type": "display_data"
    }
   ],
   "source": [
    "freq_citacoes.plot()"
   ]
  },
  {
   "cell_type": "markdown",
   "metadata": {},
   "source": [
    "Hashtag Analysis"
   ]
  },
  {
   "cell_type": "code",
   "execution_count": 51,
   "metadata": {},
   "outputs": [
    {
     "data": {
      "text/plain": [
       "dict_items([('#lrem', 2), ('#kohler.', 1), ('#macron', 12), ('#benalla,', 2), ('#macron»', 1), ('#hulot', 1), ('#fakenews', 1), ('#running', 1), ('#joke.', 1), ('#pétition', 2), ('#hulot...\\nalexis', 1), ('#kohler,', 1), ('#makeourplanetgreatagain', 1), ('#glyphosate\\xa0', 1), ('#travert', 1), ('#lemaire', 1), ('#adrienperez', 1), ('#affairebenalla', 1), ('#ristournes', 1), ('#penicaud', 1), ('#lasvegas,', 1), ('#bayrou', 1), ('#emploi…', 1), ('#jesoutienslescheminots\\nle', 1)])"
      ]
     },
     "execution_count": 51,
     "metadata": {},
     "output_type": "execute_result"
    }
   ],
   "source": [
    "hashtags = [word for word in tweets_words if word.startswith('#')]\n",
    "freq_hashtags = nltk.FreqDist(hashtags)\n",
    "freq_hashtags.items()"
   ]
  },
  {
   "cell_type": "code",
   "execution_count": 52,
   "metadata": {},
   "outputs": [
    {
     "data": {
      "image/png": "[encoded data removed]",
      "text/plain": [
       "<Figure size 432x288 with 1 Axes>"
      ]
     },
     "metadata": {},
     "output_type": "display_data"
    }
   ],
   "source": [
    "freq_hashtags.plot()"
   ]
  },
  {
   "cell_type": "markdown",
   "metadata": {},
   "source": [
    "Analysis of Frequent words  \n",
    "Can be used with any of the previous lists'''"
   ]
  },
  {
   "cell_type": "code",
   "execution_count": 53,
   "metadata": {},
   "outputs": [
    {
     "data": {
      "image/png": "[encoded data removed]",
      "text/plain": [
       "<Figure size 432x288 with 1 Axes>"
      ]
     },
     "metadata": {},
     "output_type": "display_data"
    }
   ],
   "source": [
    "frequent_words = [word.lower() for word in new_tweets_words if tweets_words.count(word) > 5]\n",
    "freq_dist2 = nltk.FreqDist(frequent_words)\n",
    "freq_dist2.plot(40)"
   ]
  },
  {
   "cell_type": "markdown",
   "metadata": {},
   "source": [
    "Words Sizes"
   ]
  },
  {
   "cell_type": "code",
   "execution_count": 54,
   "metadata": {},
   "outputs": [
    {
     "data": {
      "text/plain": [
       "dict_items([(2, 135), (7, 88), (4, 111), (9, 47), (8, 70), (10, 38), (6, 90), (23, 18), (3, 130), (5, 61), (14, 10), (11, 27), (15, 10), (12, 22), (20, 2), (19, 4), (25, 1), (27, 1), (13, 6), (16, 2), (24, 1), (17, 1), (18, 1), (1, 1), (26, 1)])"
      ]
     },
     "execution_count": 54,
     "metadata": {},
     "output_type": "execute_result"
    }
   ],
   "source": [
    "freq_size_words = nltk.FreqDist([len(w) for w in new_tweets_words])\n",
    "freq_size_words.items()"
   ]
  },
  {
   "cell_type": "code",
   "execution_count": 55,
   "metadata": {},
   "outputs": [
    {
     "data": {
      "image/png": "[encoded data removed]",
      "text/plain": [
       "<Figure size 432x288 with 1 Axes>"
      ]
     },
     "metadata": {},
     "output_type": "display_data"
    }
   ],
   "source": [
    "freq_size_words.plot()"
   ]
  },
  {
   "cell_type": "markdown",
   "metadata": {},
   "source": [
    "Bigrams"
   ]
  },
  {
   "cell_type": "code",
   "execution_count": 56,
   "metadata": {},
   "outputs": [
    {
     "data": {
      "image/png": "[encoded data removed]",
      "text/plain": [
       "<Figure size 432x288 with 1 Axes>"
      ]
     },
     "metadata": {},
     "output_type": "display_data"
    }
   ],
   "source": [
    "bigramas_tweets = nltk.bigrams(new_tweets_words)\n",
    "freqbig = nltk.FreqDist(bigramas_tweets)\n",
    "freqbig.plot(20)"
   ]
  },
  {
   "cell_type": "markdown",
   "metadata": {},
   "source": [
    "Names (capitalized words)"
   ]
  },
  {
   "cell_type": "code",
   "execution_count": 57,
   "metadata": {},
   "outputs": [
    {
     "data": {
      "image/png": "[encoded data removed]",
      "text/plain": [
       "<Figure size 432x288 with 1 Axes>"
      ]
     },
     "metadata": {},
     "output_type": "display_data"
    }
   ],
   "source": [
    "freq_names = nltk.FreqDist(names)\n",
    "freq_names.plot(20)"
   ]
  },
  {
   "cell_type": "markdown",
   "metadata": {},
   "source": [
    "#### Sentiment Analysis"
   ]
  },
  {
   "cell_type": "code",
   "execution_count": 58,
   "metadata": {},
   "outputs": [],
   "source": [
    "badwords =   ['abandoned','abused','accused','addicted','afraid','aggravated',\n",
    "              'aggressive','alone','angry','anguish','annoyed','anxious','apprehensive',\n",
    "              'argumentative','artificial','ashamed','assaulted','at a loss','at risk',\n",
    "              'atrocious','attacked','avoided','awful','awkward','bad','badgered','baffled',\n",
    "              'banned','barren','beat','beaten down','belittled','berated','betrayed',\n",
    "              'bitched at','bitter','bizzare','blacklisted','blackmailed','blamed','bleak',\n",
    "              'blown away','blur','bored','boring','bossed-around','bothered','bothersome',\n",
    "              'bounded','boxed-in','broken','bruised','brushed-off','bugged','bullied',\n",
    "              'bummed','bummed out','burdened','burdensome','burned','burned-out',\n",
    "              'caged in','careless','chaotic','chased','cheated','cheated on','chicken',\n",
    "              'claustrophobic','clingy','closed','clueless','clumsy','coaxed',\n",
    "              'codependent','coerced','cold','cold-hearted','combative','commanded',\n",
    "              'compared','competitive','compulsive','conceited','concerned',\n",
    "              'condescended to','confined','conflicted','confronted','confused',\n",
    "              'conned','consumed','contemplative','contempt','contentious','controlled',\n",
    "              'convicted','cornered','corralled','cowardly','crabby','cramped','cranky',\n",
    "              'crap','crappy','crazy','creeped out','creepy','critical','criticized',\n",
    "              'cross','crowded','cruddy','crummy','crushed','cut-down','cut-off','cynical',\n",
    "              'damaged','damned','dangerous','dark','dazed','dead','deceived','deep',\n",
    "              'defamed','defeated','defective','defenseless','defensive','defiant',\n",
    "              'deficient','deflated','degraded','dehumanized','dejected','delicate',\n",
    "              'deluded','demanding','demeaned','demented','demoralized','demotivated',\n",
    "              'dependent','depleted','depraved','depressed','deprived','deserted',\n",
    "              'deserving of pain/punishment','desolate','despair','despairing',\n",
    "              'desperate','despicable','despised','destroyed','destructive',\n",
    "              'detached','detest','detestable','detested','devalued','devastated',\n",
    "              'deviant','devoid','diagnosed','dictated to','different','difficult',\n",
    "              'directionless','dirty','disabled','disagreeable','disappointed',\n",
    "              'disappointing','disapproved of','disbelieved','discardable','discarded',\n",
    "              'disconnected','discontent','discouraged','discriminated','disdain',\n",
    "              'disdainful','disempowered','disenchanted','disgraced','disgruntled',\n",
    "              'disgust','disgusted','disheartened','dishonest','dishonorable',\n",
    "              'disillusioned','dislike','disliked','dismal','dismayed','disorganized',\n",
    "              'disoriented','disowned','displeased','disposable','disregarded',\n",
    "              'disrespected','dissatisfied','distant','distracted','distraught',\n",
    "              'distressed','disturbed','dizzy','dominated','doomed','double-crossed',\n",
    "              'doubted','doubtful','down','down and out','down in the dumps',\n",
    "              'downhearted','downtrodden','drained','dramatic','dread','dreadful',\n",
    "              'dreary','dropped','drunk','dry','dumb','dumped','dumped on','duped',\n",
    "              'edgy','egocentric','egotistic','egotistical','elusive','emancipated',\n",
    "              'emasculated','embarrassed','emotional','emotionless','emotionally bankrupt',\n",
    "              'empty','encumbered','endangered','enraged','enslaved','entangled','evaded',\n",
    "              'evasive','evicted','excessive','excluded','exhausted','exploited','exposed',\n",
    "              'fail','failful','fake','false','fear','fearful','fed up','flawed','forced',\n",
    "              'forgetful','forgettable','forgotten','fragile','freaked out','frightened',\n",
    "              'frigid','frustrated','furious','gloomy','glum','gothic','grey','grief','grim',\n",
    "              'gross','grossed-out','grotesque','grouchy','grounded','grumpy','guilt-tripped',\n",
    "              'guilty','harassed','hard','hard-hearted','harmed','hassled','hate','hateful',\n",
    "              'hatred','haunted','heartbroken','heartless','heavy-hearted','helpless',\n",
    "              'hesitant','hideous','hindered','hopeless','horrible','horrified','horror',\n",
    "              'hostile','hot-tempered','humiliated','hung up','hung over','hurried','hurt',\n",
    "              'hysterical','idiot','idiotic','ignorant','ignored','ill','ill-tempered',\n",
    "              'imbalanced','imposed-upon','impotent','imprisoned','impulsive','in the dumps',\n",
    "              'in the way','inactive','inadequate','incapable','incommunicative','incompetent',\n",
    "              'incompatible','incomplete','incorrect','indecisive','indifferent',\n",
    "              'indoctrinated','inebriated','ineffective','inefficient','inferior',\n",
    "              'infuriated','inhibited','inhumane','injured','injusticed','insane',\n",
    "              'insecure','insignificant','insincere','insufficient','insulted',\n",
    "              'intense','interrogated','interrupted','intimidated','intoxicated',\n",
    "              'invalidated','invisible','irrational','irritable','irritated',\n",
    "              'isolated','jaded','jealous','jerked around','joyless','judged',\n",
    "              'kept apart','kept away','kept in','kept out','kept quiet','labeled',\n",
    "              'laughable','laughed at','lazy','leaned on','lectured to','left out',\n",
    "              'let down','lied about','lied to','limited','little','lonely','lonesome',\n",
    "              'longing','lost','lousy','loveless','low','mad','made fun of','man handled',\n",
    "              'manipulated','masochistic','messed with','messed up','messy','miffed',\n",
    "              'miserable','misled','mistaken','mistreated','mistrusted','misunderstood',\n",
    "              'mixed-up','mocked','molested','moody','nagged','needy','negative',\n",
    "              'nervous','neurotic','nonconforming','numb','nuts','nutty','objectified',\n",
    "              'obligated','obsessed','obsessive','obstructed','odd','offended',\n",
    "              'on display','opposed','oppressed','out of place','out of touch',\n",
    "              'over-controlled','over-protected','overwhelmed','pain','panic','paranoid',\n",
    "              'passive','pathetic','pessimistic','petrified','phony','picked on','pissed',\n",
    "              'pissed off','plain','played with','pooped','poor','powerless','pre-judged',\n",
    "              'preached to','preoccupied','predjudiced','pressured','prosecuted',\n",
    "              'provoked','psychopathic','psychotic','pulled apart','pulled back',\n",
    "              'punished','pushed','pushed away','put down','puzzled','quarrelsome',\n",
    "              'queer','questioned','quiet','rage','raped','rattled','regret','rejected',\n",
    "              'resented','resentful','responsible','retarded','revengeful','ridiculed',\n",
    "              'ridiculous','robbed','rotten','sad','sadistic','sarcastic','scared',\n",
    "              'scarred','screwed','screwed over','screwed up','self-centered','self-conscious',\n",
    "              'self-destructive','self-hatred','selfish','sensitive','shouted at','shy',\n",
    "              'singled-out','slow','small','smothered','snapped at','spiteful','stereotyped',\n",
    "              'strange','stressed','stretched','stuck','stupid','submissive','suffering',\n",
    "              'suffocated','suicidal','superficial','suppressed','suspicious','worse','worst'\n",
    "              ,'bankrupcy','jobs','shit','#sob']"
   ]
  },
  {
   "cell_type": "code",
   "execution_count": 59,
   "metadata": {},
   "outputs": [],
   "source": [
    "goodwords =  ['Abundant','Accomplished','Achieving','Active','Admirable','Adorable',\n",
    "              'Adventurous','Admired','Affluent','Agreeable','Alert','Aligned','Alive',\n",
    "              'Amazing','Appealing','Appreciate','Artistic','Astounding','Astute',\n",
    "              'Attentive','Attractive','Auspicious','Authentic','Awake','Aware','Awesome',\n",
    "              'Beaming','Beautiful','Better','Best','Blessed','Bliss','Bold','Bright','Brilliant',\n",
    "              'Brisk','Buoyant','Calm','Capable','Centered','Certain','Charming',\n",
    "              'Cheerful','Clear','Clever','Competent','Complete','Confident','Connected',\n",
    "              'Conscious','Considerate','Convenient','Courageous','Creative','Daring',\n",
    "              'Dazzling','Delicious','Delightful','Desirable','Determined','Diligent',\n",
    "              'Discerning','Discover','Dynamic','Eager','Easy','Efficient','Effortless',\n",
    "              'Elegant','Eloquent','Energetic','Endless','Enhancing','Engaging','Enormous'\n",
    "              ,'Enterprising','Enthusiastic','Enticing','Excellent','Exceptional','Exciting'\n",
    "              ,'Experienced','Exquisite','Fabulous','Fair','Far-Sighted','Fascinating',\n",
    "              'Fine','Flattering','Flourishing','Fortunate','Free','Friendly','Fulfilled',\n",
    "              'Fun','Generous','Genuine','Gifted','Glorious','Glowing','Good','Good-Looking',\n",
    "              'Gorgeous','Graceful','Gracious','Grand','Great','Handsome','Happy','Hardy',\n",
    "              'Harmonious','Healed','Healthy','Helpful','Honest','Humorous','Ideal',\n",
    "              'Imaginative','Impressive','Industrious','Ingenious','Innovative','Inspired',\n",
    "              'Intelligent','Interested','Interesting','Intuitive','Inventive','Invincible',\n",
    "              'Inviting','Irresistible','Joyous','Judicious','Keen','Kind','Knowing','Leader',\n",
    "              'Limitless','Lively','Loving','Lucky','Luminous','Magical','Magnificent',\n",
    "              'Marvellous','Masterful','Mighty','Miraculous','Motivated','Natural','Neat',\n",
    "              'Nice','Nurturing','Noble','Optimistic','Outstanding','Passionate','Peaceful',\n",
    "              'Perfect','Persevering','Persistent','Playful','Pleasing','Plentiful','Positive',\n",
    "              'Powerful','Precious','Prepared','Productive','Profound','Prompt','Prosperous',\n",
    "              'Proud','Qualified','Quick','Radiant','Reasonable','Refined','Refreshing',\n",
    "              'Relaxing','Reliable','Remarkable','Resolute','Resourceful','Respected',\n",
    "              'Rewarding','Robust','Safe','Satisfied','Secure','Seductive','Self-Reliant',\n",
    "              'Sensational','Sensible','Sensitive','Serene','Sharing','Skilful','Smart',\n",
    "              'Smashing','Smooth','Sparkling','Spiritual','Splendid','Strong','Stunning',\n",
    "              'Successful','Superb','Swift','Talented','Tenacious','Terrific','Thankful',\n",
    "              'Thrilling','Thriving','Timely','Trusting','Truthful','Ultimate','Unique',\n",
    "              'Valiant','Valuable','Versatile','Vibrant','Victorious','Vigorous','Vivacious',\n",
    "              'Vivid','Warm','Wealthy','Well','Whole','Wise','Wonderful','Worthy','Young',\n",
    "              'Youthful','Zeal','Zest']"
   ]
  },
  {
   "cell_type": "code",
   "execution_count": 60,
   "metadata": {},
   "outputs": [],
   "source": [
    "def percentage(count, total):\n",
    "    return 100 * count / float(total)"
   ]
  },
  {
   "cell_type": "code",
   "execution_count": 61,
   "metadata": {},
   "outputs": [],
   "source": [
    "def sentiment_analysis(texto, goodwords, badwords):\n",
    "    '''\n",
    "    Not a sophisticated one, but the main idea is present.\n",
    "    Please read: http://alias-i.com/lingpipe/demos/tutorial/sentiment/read-me.html\n",
    "    '''\n",
    "    goodness = 0\n",
    "    badness = 0    \n",
    "    for word in goodwords:\n",
    "        goodness += percentage(texto.count(word.lower()), len(texto))\n",
    "    for word in badwords:\n",
    "        badness += percentage(texto.count(word.lower()), len(texto))\n",
    "    if badness:\n",
    "        ratio = goodness/float(badness)\n",
    "    print(u'Grau de negatividade: {}'.format(badness))\n",
    "    print(u'Grau de positividade: {}'.format(goodness))\n",
    "    if badness:\n",
    "        print(u'Razão: {}'.format(ratio))\n",
    "    return goodness, badness"
   ]
  },
  {
   "cell_type": "code",
   "execution_count": 62,
   "metadata": {},
   "outputs": [
    {
     "name": "stdout",
     "output_type": "stream",
     "text": [
      "Grau de negatividade: 0.0\n",
      "Grau de positividade: 0.0\n"
     ]
    }
   ],
   "source": [
    "sentiment_analysis(tweets_words, goodwords, badwords);"
   ]
  },
  {
   "cell_type": "markdown",
   "metadata": {},
   "source": [
    "#### Geographic Analysis"
   ]
  },
  {
   "cell_type": "markdown",
   "metadata": {},
   "source": [
    "https://pypi.python.org/pypi/basemap/1.0.7  \n",
    "http://matplotlib.org/basemap/  \n",
    "http://matplotlib.org/basemap/users/installing.html  \n",
    "http://nbviewer.ipython.org/github/ehmatthes/intro_programming/blob/master/notebooks/visualization_earthquakes.ipynb  "
   ]
  },
  {
   "cell_type": "code",
   "execution_count": 63,
   "metadata": {},
   "outputs": [
    {
     "name": "stdout",
     "output_type": "stream",
     "text": [
      "Usuário 477769710 nas coordenadas [40.78664145, 30.4146724]\n",
      "Usuário 44432548 nas coordenadas [41.902273, 12.454032]\n",
      "Usuário 2268729886 nas coordenadas [41.037341, 28.968659]\n",
      "Usuário 25772897 nas coordenadas [36.1626638, -86.7816016]\n",
      "Usuário 230487950 nas coordenadas [31.5084926, -9.7595041]\n",
      "Usuário 334927302 nas coordenadas [29.240991, -81.0699462]\n",
      "Usuário 249858456 nas coordenadas [40.42743, -79.89103]\n",
      "Usuário 3446146816 nas coordenadas [53.710879, -1.926554]\n",
      "Usuário 950207606 nas coordenadas [41.05093894, 29.05194417]\n",
      "Usuário 2850797495 nas coordenadas [10.3379897, -67.0382923]\n",
      "Usuário 3999851235 nas coordenadas [41.03786, 28.968641]\n",
      "Usuário 22777520 nas coordenadas [20.8893351, -156.4729469]\n",
      "Usuário 2243900738 nas coordenadas [19.73888889, -156.04555556]\n",
      "Usuário 448126349 nas coordenadas [51.8833, 4.63333]\n",
      "Usuário 17216220 nas coordenadas [20.48894224, -87.24351675]\n",
      "Usuário 206928975 nas coordenadas [35.22694444, -80.84333333]\n",
      "Usuário 64508901 nas coordenadas [-27.8, -50.3167]\n",
      "Usuário 22058139 nas coordenadas [38.232417, -122.6366524]\n",
      "Usuário 41637669 nas coordenadas [39.0038878, -77.1053673]\n",
      "Usuário 827599513745498112 nas coordenadas [39.3191371, -84.2196063]\n"
     ]
    }
   ],
   "source": [
    "msgpublicas = api.GetStreamSample()\n",
    "geo_points = 0\n",
    "lats, lons = [], []\n",
    "users = []\n",
    "while geo_points < 20:\n",
    "    tweet = next(msgpublicas)\n",
    "    if 'coordinates' in tweet.keys() and tweet['coordinates'] != None:\n",
    "        coords = tweet['coordinates']['coordinates']\n",
    "        user = tweet['user']['id']\n",
    "        print(u'Usuário {} nas coordenadas {}'.format(user, [coords[1],coords[0]]))\n",
    "        lons.append(float(coords[0]))\n",
    "        lats.append(float(coords[1]))\n",
    "        users.append(user)\n",
    "        geo_points +=1"
   ]
  },
  {
   "cell_type": "code",
   "execution_count": 64,
   "metadata": {},
   "outputs": [
    {
     "name": "stderr",
     "output_type": "stream",
     "text": [
      "/usr/lib/python3/dist-packages/mpl_toolkits/basemap/__init__.py:1707: MatplotlibDeprecationWarning: The axesPatch function was deprecated in version 2.1. Use Axes.patch instead.\n",
      "  if limb is not ax.axesPatch:\n"
     ]
    },
    {
     "data": {
      "image/png": "[encoded data removed]",
      "text/plain": [
       "<Figure size 432x288 with 1 Axes>"
      ]
     },
     "metadata": {},
     "output_type": "display_data"
    }
   ],
   "source": [
    "map = Basemap(projection='robin', resolution = 'l', area_thresh = 1000.0, lat_0=0, lon_0=0)\n",
    "\n",
    "map.drawcoastlines()\n",
    "map.drawcountries()\n",
    "map.fillcontinents(color = '#FFFFCC') #http://www.w3schools.com/tags/ref_colorpicker.asp\n",
    "map.drawmapboundary()\n",
    "map.drawmeridians(np.arange(0, 360, 30))\n",
    "map.drawparallels(np.arange(-90, 90, 30))\n",
    "\n",
    "x,y = map(lons, lats)\n",
    "map.plot(x, y, 'ro', markersize=6)\n",
    "plt.show()"
   ]
  },
  {
   "cell_type": "code",
   "execution_count": 65,
   "metadata": {},
   "outputs": [
    {
     "name": "stderr",
     "output_type": "stream",
     "text": [
      "/usr/lib/python3/dist-packages/mpl_toolkits/basemap/__init__.py:1704: MatplotlibDeprecationWarning: The axesPatch function was deprecated in version 2.1. Use Axes.patch instead.\n",
      "  limb = ax.axesPatch\n",
      "/usr/lib/python3/dist-packages/mpl_toolkits/basemap/__init__.py:1707: MatplotlibDeprecationWarning: The axesPatch function was deprecated in version 2.1. Use Axes.patch instead.\n",
      "  if limb is not ax.axesPatch:\n"
     ]
    },
    {
     "data": {
      "image/png": "[encoded data removed]",
      "text/plain": [
       "<Figure size 432x288 with 1 Axes>"
      ]
     },
     "metadata": {},
     "output_type": "display_data"
    }
   ],
   "source": [
    "map = Basemap(projection='merc', lat_0 = -22, lon_0 = -56.5,resolution = 'h', area_thresh = 0.1, \n",
    "              llcrnrlon=-83.0, llcrnrlat=-57.0, urcrnrlon=-30.0, urcrnrlat=13.0)\n",
    " \n",
    "map.drawcoastlines()\n",
    "map.drawcountries()\n",
    "map.fillcontinents(color = 'coral')\n",
    "map.drawmapboundary()\n",
    "\n",
    "x,y = map(lons, lats)\n",
    "map.plot(x, y, 'bo', markersize=10)\n",
    "\n",
    "plt.show()"
   ]
  },
  {
   "cell_type": "markdown",
   "metadata": {},
   "source": [
    "Zoom em uma coordenada:"
   ]
  },
  {
   "cell_type": "code",
   "execution_count": 66,
   "metadata": {},
   "outputs": [],
   "source": [
    "def gmap(lat,lon,zoom=10):\n",
    "    # Google Maps URL template for an iframe\n",
    "    google_maps_url = \"http://maps.google.com/maps?q={0}+{1}&ie=UTF8&t=h&z={2}&{0},{1}&output=embed\".format(lat,lon,zoom)\n",
    "    display(IFrame(google_maps_url, '800px', '600px'))"
   ]
  },
  {
   "cell_type": "code",
   "execution_count": 67,
   "metadata": {},
   "outputs": [
    {
     "data": {
      "text/html": [
       "\n",
       "        <iframe\n",
       "            width=\"800px\"\n",
       "            height=\"600px\"\n",
       "            src=\"http://maps.google.com/maps?q=40.78664145+30.4146724&ie=UTF8&t=h&z=4&40.78664145,30.4146724&output=embed\"\n",
       "            frameborder=\"0\"\n",
       "            allowfullscreen\n",
       "        ></iframe>\n",
       "        "
      ],
      "text/plain": [
       "<IPython.lib.display.IFrame at 0x7f9ae78f9518>"
      ]
     },
     "metadata": {},
     "output_type": "display_data"
    }
   ],
   "source": [
    "gmap(lats[0],lons[0],4)"
   ]
  },
  {
   "cell_type": "markdown",
   "metadata": {},
   "source": [
    "#### Graphs\n",
    "\n",
    "http://networkx.lanl.gov/  "
   ]
  },
  {
   "cell_type": "code",
   "execution_count": 68,
   "metadata": {},
   "outputs": [],
   "source": [
    "def get_rt_origins(tweet):\n",
    "    ''' Regex adapted from \n",
    "    http://stackoverflow.com/questions/655903/python-regular-expression-for-retweets'''\n",
    "    rt_patterns = re.compile(r\"(RT|via)((?:\\b\\W*@\\w+)+)\", re.IGNORECASE)\n",
    "    rt_origins = []\n",
    "    try:\n",
    "        rt_origins += [mention.strip() for mention in rt_patterns.findall(tweet)[0][1].split()]\n",
    "    except IndexError as e:\n",
    "        pass\n",
    "    return [rto.strip(\"@\") for rto in rt_origins]"
   ]
  },
  {
   "cell_type": "code",
   "execution_count": 69,
   "metadata": {},
   "outputs": [],
   "source": [
    "def create_graph_retweets(tweets):\n",
    "    g = nx.DiGraph()\n",
    "    for tweet in tweets:\n",
    "        rt_origins = get_rt_origins(tweet.text)\n",
    "        if not rt_origins:\n",
    "            continue\n",
    "        for rt_origin in rt_origins:\n",
    "            g.add_edge(rt_origin, tweet.user.screen_name, {'tweet_id': tweet.id})\n",
    "    return g"
   ]
  },
  {
   "cell_type": "code",
   "execution_count": 70,
   "metadata": {},
   "outputs": [
    {
     "ename": "TypeError",
     "evalue": "add_edge() takes 3 positional arguments but 4 were given",
     "output_type": "error",
     "traceback": [
      "\u001b[0;31m---------------------------------------------------------------------------\u001b[0m",
      "\u001b[0;31mTypeError\u001b[0m                                 Traceback (most recent call last)",
      "\u001b[0;32m<ipython-input-70-c82802659371>\u001b[0m in \u001b[0;36m<module>\u001b[0;34m()\u001b[0m\n\u001b[0;32m----> 1\u001b[0;31m \u001b[0mg_rt\u001b[0m \u001b[0;34m=\u001b[0m \u001b[0mcreate_graph_retweets\u001b[0m\u001b[0;34m(\u001b[0m\u001b[0mtweets\u001b[0m\u001b[0;34m)\u001b[0m\u001b[0;34m\u001b[0m\u001b[0m\n\u001b[0m\u001b[1;32m      2\u001b[0m \u001b[0mprint\u001b[0m\u001b[0;34m(\u001b[0m\u001b[0;34m\"Number of nodes is: {}\\n\"\u001b[0m\u001b[0;34m.\u001b[0m\u001b[0mformat\u001b[0m\u001b[0;34m(\u001b[0m\u001b[0mg_rt\u001b[0m\u001b[0;34m.\u001b[0m\u001b[0mnumber_of_nodes\u001b[0m\u001b[0;34m(\u001b[0m\u001b[0;34m)\u001b[0m\u001b[0;34m)\u001b[0m\u001b[0;34m)\u001b[0m\u001b[0;34m\u001b[0m\u001b[0m\n\u001b[1;32m      3\u001b[0m \u001b[0mprint\u001b[0m\u001b[0;34m(\u001b[0m\u001b[0;34m\"Number of edges is: {}\\n\"\u001b[0m\u001b[0;34m.\u001b[0m\u001b[0mformat\u001b[0m\u001b[0;34m(\u001b[0m\u001b[0mg_rt\u001b[0m\u001b[0;34m.\u001b[0m\u001b[0mnumber_of_edges\u001b[0m\u001b[0;34m(\u001b[0m\u001b[0;34m)\u001b[0m\u001b[0;34m)\u001b[0m\u001b[0;34m)\u001b[0m\u001b[0;34m\u001b[0m\u001b[0m\n",
      "\u001b[0;32m<ipython-input-69-a74f46f2ffdd>\u001b[0m in \u001b[0;36mcreate_graph_retweets\u001b[0;34m(tweets)\u001b[0m\n\u001b[1;32m      6\u001b[0m             \u001b[0;32mcontinue\u001b[0m\u001b[0;34m\u001b[0m\u001b[0m\n\u001b[1;32m      7\u001b[0m         \u001b[0;32mfor\u001b[0m \u001b[0mrt_origin\u001b[0m \u001b[0;32min\u001b[0m \u001b[0mrt_origins\u001b[0m\u001b[0;34m:\u001b[0m\u001b[0;34m\u001b[0m\u001b[0m\n\u001b[0;32m----> 8\u001b[0;31m             \u001b[0mg\u001b[0m\u001b[0;34m.\u001b[0m\u001b[0madd_edge\u001b[0m\u001b[0;34m(\u001b[0m\u001b[0mrt_origin\u001b[0m\u001b[0;34m,\u001b[0m \u001b[0mtweet\u001b[0m\u001b[0;34m.\u001b[0m\u001b[0muser\u001b[0m\u001b[0;34m.\u001b[0m\u001b[0mscreen_name\u001b[0m\u001b[0;34m,\u001b[0m \u001b[0;34m{\u001b[0m\u001b[0;34m'tweet_id'\u001b[0m\u001b[0;34m:\u001b[0m \u001b[0mtweet\u001b[0m\u001b[0;34m.\u001b[0m\u001b[0mid\u001b[0m\u001b[0;34m}\u001b[0m\u001b[0;34m)\u001b[0m\u001b[0;34m\u001b[0m\u001b[0m\n\u001b[0m\u001b[1;32m      9\u001b[0m     \u001b[0;32mreturn\u001b[0m \u001b[0mg\u001b[0m\u001b[0;34m\u001b[0m\u001b[0m\n",
      "\u001b[0;31mTypeError\u001b[0m: add_edge() takes 3 positional arguments but 4 were given"
     ]
    }
   ],
   "source": [
    "g_rt = create_graph_retweets(tweets)\n",
    "print(\"Number of nodes is: {}\\n\".format(g_rt.number_of_nodes()))\n",
    "print(\"Number of edges is: {}\\n\".format(g_rt.number_of_edges()))"
   ]
  },
  {
   "cell_type": "code",
   "execution_count": null,
   "metadata": {},
   "outputs": [],
   "source": [
    "import operator\n",
    "sorted_dic = sorted(g_rt.degree().items(), key=operator.itemgetter(1), reverse=True)\n",
    "sorted_dic"
   ]
  },
  {
   "cell_type": "code",
   "execution_count": null,
   "metadata": {},
   "outputs": [],
   "source": [
    "dic = nx.degree(g_rt)\n",
    "plt.plot(sorted(dic.values()))"
   ]
  },
  {
   "cell_type": "code",
   "execution_count": null,
   "metadata": {},
   "outputs": [],
   "source": [
    "def save_dotfile(g):\n",
    "    try:\n",
    "        nx.drawing.write_dot(g, pathdotfile)\n",
    "        print >> sys.stderr, 'Graph exported for file: {}'.format(pathdotfile)\n",
    "    except (ImportError, UnicodeEncodeError, AttributeError): \n",
    "        # Este bloco serve para usuarios de windows, que certamente terao problemas\n",
    "        # com o metodo nx.drawing.write_dot. Tambem serve para os casos em que temos\n",
    "        # problemas com o unicode\n",
    "        dot = [u'\"{}\" -> \"{}\" [tweet_id={}]'.format(n1, n2, g[n1][n2]['tweet_id']) for (n1, n2) in g.edges()]\n",
    "        f = codecs.open(pathdotfile, 'w', encoding='utf-8')\n",
    "        f.write('''strict digraph {{}}'''.format(';\\n'.join(dot), ))\n",
    "        f.close()\n",
    "        print(sys.stderr, 'Graph exported for file: {}'.format(pathdotfile))\n",
    "        return f.name"
   ]
  },
  {
   "cell_type": "code",
   "execution_count": null,
   "metadata": {},
   "outputs": [],
   "source": [
    "save_dotfile(g_rt)"
   ]
  },
  {
   "cell_type": "markdown",
   "metadata": {},
   "source": [
    "Saving a dotfile\n",
    "\n",
    "Obs: To generate a png graph from the dotfile, type in the Unix Prompt: \n",
    "'circo -Tpng -Gcharset=latin1 -Ograph_retweet graph_retweet.dot'"
   ]
  },
  {
   "cell_type": "code",
   "execution_count": null,
   "metadata": {
    "scrolled": true
   },
   "outputs": [],
   "source": [
    "#Chamando um programa externo ao Ipython com o operador !\n",
    "!dot -Tpng ../outputs/graph_retweet.dot -o ../outputs/graph_retweet.png\n",
    "Image(pathpngfile)"
   ]
  },
  {
   "cell_type": "code",
   "execution_count": null,
   "metadata": {},
   "outputs": [],
   "source": [
    "nx.draw_networkx_labels(g_rt,pos=nx.spring_layout(g_rt),font_size=9)\n",
    "nx.draw(g_rt)\n",
    "#nx.draw_random(g_rt)\n",
    "#nx.draw_circular(g_rt)\n",
    "#nx.draw_spectral(g_rt)"
   ]
  },
  {
   "cell_type": "markdown",
   "metadata": {},
   "source": [
    "Saving a HTML file that uses javascript for visualizing the graph (needs a template)"
   ]
  },
  {
   "cell_type": "code",
   "execution_count": null,
   "metadata": {},
   "outputs": [],
   "source": [
    "def save_protovis_file(g):\n",
    "    '''A visualization alternative is \"protovis\" javascript\n",
    "    It uses the files \"template_protoviz.html and \"protovis-r3.2.js\"\n",
    "    '''\n",
    "    nodes = g.nodes()\n",
    "    indexed_nodes = {}\n",
    "    idx = 0\n",
    "    for n in nodes:\n",
    "        indexed_nodes.update([(n, idx,)])\n",
    "        idx += 1\n",
    "    links = []\n",
    "    for n1, n2 in g.edges():\n",
    "        links.append({'source': indexed_nodes[n2],'target': indexed_nodes[n1]})\n",
    "    json_data = json.dumps({\"nodes\" : [{\"nodeName\" : n} for n in nodes], \"links\" : links}, indent=4)\n",
    "    html = open(pathtemplate).read().format(json_data,)\n",
    "    f = open(pathprotofile, 'w')\n",
    "    f.write(html)\n",
    "    f.close()\n",
    "    print(sys.stderr, 'Graph exported for file: {}'.format(pathprotofile))\n",
    "    return f.name, html"
   ]
  },
  {
   "cell_type": "code",
   "execution_count": null,
   "metadata": {},
   "outputs": [],
   "source": [
    "s = save_protovis_file(g_rt)"
   ]
  },
  {
   "cell_type": "code",
   "execution_count": null,
   "metadata": {},
   "outputs": [],
   "source": [
    "#!chromium ../outputs/graph_retweet.html\n",
    "# http://docs.python.org/library/webbrowser.html \n",
    "\n",
    "webbrowser.open(pathprotofile)"
   ]
  }
 ],
 "metadata": {
  "kernelspec": {
   "display_name": "Python 3",
   "language": "python",
   "name": "python3"
  },
  "language_info": {
   "codemirror_mode": {
    "name": "ipython",
    "version": 3
   },
   "file_extension": ".py",
   "mimetype": "text/x-python",
   "name": "python",
   "nbconvert_exporter": "python",
   "pygments_lexer": "ipython3",
   "version": "3.6.5"
  }
 },
 "nbformat": 4,
 "nbformat_minor": 2
}
